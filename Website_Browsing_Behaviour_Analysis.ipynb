{
  "nbformat": 4,
  "nbformat_minor": 0,
  "metadata": {
    "colab": {
      "name": "Capstone-Project: Website_Browsing_Behaviour_Analysis_Subesha_Sasmal.ipynb",
      "provenance": [],
      "collapsed_sections": []
    },
    "kernelspec": {
      "name": "python3",
      "display_name": "Python 3"
    },
    "language_info": {
      "name": "python"
    }
  },
  "cells": [
    {
      "cell_type": "code",
      "metadata": {
        "id": "g0HXXW0OSOyp"
      },
      "source": [
        "# !nvidia-smi"
      ],
      "execution_count": null,
      "outputs": []
    },
    {
      "cell_type": "markdown",
      "metadata": {
        "id": "jPZF9aFIOF83"
      },
      "source": [
        "### **CAPSTONE PROJECT - Website Behaviour Analysis**\n",
        "\n",
        "**Problem:** The client is an online ecommerce player. They have shared a user-level log data for their browning behaviour (Timestamp, UserID and website section visited). You have been provided with the final conversion data too (Timestamp, UserID, Products purchased in the transaction, Overall cart value)\n",
        "\n",
        "**Task:** Based on this data you are required to build features and model on these characterstics of users to calculate a score/rank for conversion probability of that user."
      ]
    },
    {
      "cell_type": "code",
      "metadata": {
        "colab": {
          "base_uri": "https://localhost:8080/"
        },
        "id": "53grBy3A_8_l",
        "outputId": "a93122d4-d931-45bc-9c61-cd3d9d391dee"
      },
      "source": [
        "from google.colab import drive\n",
        "drive.mount('/content/drive')"
      ],
      "execution_count": null,
      "outputs": [
        {
          "output_type": "stream",
          "text": [
            "Mounted at /content/drive\n"
          ],
          "name": "stdout"
        }
      ]
    },
    {
      "cell_type": "code",
      "metadata": {
        "colab": {
          "base_uri": "https://localhost:8080/"
        },
        "id": "8i92k9rhPiQM",
        "outputId": "a7136ddc-a63e-4975-c163-3fbb37799d37"
      },
      "source": [
        "# importing necessary libraries\n",
        "\n",
        "import pandas as pd\n",
        "import numpy as np\n",
        "import seaborn as sns\n",
        "import matplotlib.pyplot as plt\n",
        "%matplotlib inline\n",
        "\n",
        "import warnings\n",
        "warnings.filterwarnings('ignore')\n",
        "print(\"Libraries import successful\")"
      ],
      "execution_count": null,
      "outputs": [
        {
          "output_type": "stream",
          "text": [
            "Libraries import successful\n"
          ],
          "name": "stdout"
        }
      ]
    },
    {
      "cell_type": "markdown",
      "metadata": {
        "id": "gBxzUU5WI7tg"
      },
      "source": [
        "### **Reading Site Browsing Behaviour Data**"
      ]
    },
    {
      "cell_type": "code",
      "metadata": {
        "id": "baxnPaphWiGX"
      },
      "source": [
        "# Loading Browsing behaviour data\n",
        "\n",
        "import pandas as pd\n",
        "\n",
        "site_browsing = pd.read_csv('/content/drive/MyDrive/Projects/Supervised_Model/Problem2_Site_BrowsingBehavior', delimiter ='\\t', header = None)\n",
        "\n",
        "site_browsing.columns = ['Timestamp', 'UserID', 'Website_Section_Visited']\n"
      ],
      "execution_count": null,
      "outputs": []
    },
    {
      "cell_type": "code",
      "metadata": {
        "colab": {
          "base_uri": "https://localhost:8080/",
          "height": 204
        },
        "id": "dlKz9YZLbViZ",
        "outputId": "7135549a-d3e7-45da-8513-1313f8bc7416"
      },
      "source": [
        "site_browsing.head()"
      ],
      "execution_count": null,
      "outputs": [
        {
          "output_type": "execute_result",
          "data": {
            "text/html": [
              "<div>\n",
              "<style scoped>\n",
              "    .dataframe tbody tr th:only-of-type {\n",
              "        vertical-align: middle;\n",
              "    }\n",
              "\n",
              "    .dataframe tbody tr th {\n",
              "        vertical-align: top;\n",
              "    }\n",
              "\n",
              "    .dataframe thead th {\n",
              "        text-align: right;\n",
              "    }\n",
              "</style>\n",
              "<table border=\"1\" class=\"dataframe\">\n",
              "  <thead>\n",
              "    <tr style=\"text-align: right;\">\n",
              "      <th></th>\n",
              "      <th>Timestamp</th>\n",
              "      <th>UserID</th>\n",
              "      <th>Website_Section_Visited</th>\n",
              "    </tr>\n",
              "  </thead>\n",
              "  <tbody>\n",
              "    <tr>\n",
              "      <th>0</th>\n",
              "      <td>2017-07-26 00:01:40.965</td>\n",
              "      <td>0</td>\n",
              "      <td>product</td>\n",
              "    </tr>\n",
              "    <tr>\n",
              "      <th>1</th>\n",
              "      <td>2017-07-26 00:03:18.448</td>\n",
              "      <td>0</td>\n",
              "      <td>product</td>\n",
              "    </tr>\n",
              "    <tr>\n",
              "      <th>2</th>\n",
              "      <td>2017-07-26 00:36:59.028</td>\n",
              "      <td>0</td>\n",
              "      <td>default</td>\n",
              "    </tr>\n",
              "    <tr>\n",
              "      <th>3</th>\n",
              "      <td>2017-07-26 00:41:17.273</td>\n",
              "      <td>0</td>\n",
              "      <td>product-listing-category</td>\n",
              "    </tr>\n",
              "    <tr>\n",
              "      <th>4</th>\n",
              "      <td>2017-07-26 00:45:39.197</td>\n",
              "      <td>0</td>\n",
              "      <td>content</td>\n",
              "    </tr>\n",
              "  </tbody>\n",
              "</table>\n",
              "</div>"
            ],
            "text/plain": [
              "                 Timestamp  UserID   Website_Section_Visited\n",
              "0  2017-07-26 00:01:40.965       0                   product\n",
              "1  2017-07-26 00:03:18.448       0                   product\n",
              "2  2017-07-26 00:36:59.028       0                   default\n",
              "3  2017-07-26 00:41:17.273       0  product-listing-category\n",
              "4  2017-07-26 00:45:39.197       0                   content"
            ]
          },
          "metadata": {
            "tags": []
          },
          "execution_count": 5
        }
      ]
    },
    {
      "cell_type": "code",
      "metadata": {
        "colab": {
          "base_uri": "https://localhost:8080/"
        },
        "id": "Q8-K-nPQUCvs",
        "outputId": "430b1888-59d4-447a-9d1d-62646d82fe2e"
      },
      "source": [
        "print('Shape of site browsing dataset:', site_browsing.shape)"
      ],
      "execution_count": null,
      "outputs": [
        {
          "output_type": "stream",
          "text": [
            "Shape of site browsing dataset: (5535924, 3)\n"
          ],
          "name": "stdout"
        }
      ]
    },
    {
      "cell_type": "code",
      "metadata": {
        "colab": {
          "base_uri": "https://localhost:8080/"
        },
        "id": "XanEn65KUb7S",
        "outputId": "64ccef7e-47f3-4c3c-b65f-15945671ae6c"
      },
      "source": [
        "# Checking null values in the dataset\n",
        "\n",
        "site_browsing.isnull().sum()"
      ],
      "execution_count": null,
      "outputs": [
        {
          "output_type": "execute_result",
          "data": {
            "text/plain": [
              "Timestamp                  0\n",
              "UserID                     0\n",
              "Website_Section_Visited    0\n",
              "dtype: int64"
            ]
          },
          "metadata": {
            "tags": []
          },
          "execution_count": 7
        }
      ]
    },
    {
      "cell_type": "code",
      "metadata": {
        "colab": {
          "base_uri": "https://localhost:8080/"
        },
        "id": "15Ai2RfkUmIu",
        "outputId": "c3fe75be-8a4f-44cf-a29f-ad32a368be54"
      },
      "source": [
        "# checking the summary of dataset\n",
        "\n",
        "site_browsing.info()"
      ],
      "execution_count": null,
      "outputs": [
        {
          "output_type": "stream",
          "text": [
            "<class 'pandas.core.frame.DataFrame'>\n",
            "RangeIndex: 5535924 entries, 0 to 5535923\n",
            "Data columns (total 3 columns):\n",
            " #   Column                   Dtype \n",
            "---  ------                   ----- \n",
            " 0   Timestamp                object\n",
            " 1   UserID                   int64 \n",
            " 2   Website_Section_Visited  object\n",
            "dtypes: int64(1), object(2)\n",
            "memory usage: 126.7+ MB\n"
          ],
          "name": "stdout"
        }
      ]
    },
    {
      "cell_type": "code",
      "metadata": {
        "colab": {
          "base_uri": "https://localhost:8080/"
        },
        "id": "cUqMT57wUtF9",
        "outputId": "6c049c0d-f52b-4ebf-f447-d10a08cdc7be"
      },
      "source": [
        "# checking the number of unique 'UserID' in the dataset\n",
        "\n",
        "site_browsing['UserID'].nunique()"
      ],
      "execution_count": null,
      "outputs": [
        {
          "output_type": "execute_result",
          "data": {
            "text/plain": [
              "516932"
            ]
          },
          "metadata": {
            "tags": []
          },
          "execution_count": 9
        }
      ]
    },
    {
      "cell_type": "code",
      "metadata": {
        "colab": {
          "base_uri": "https://localhost:8080/"
        },
        "id": "oAfS4zFFVY-D",
        "outputId": "7c446281-1b3b-42f6-b201-fefa3662c92d"
      },
      "source": [
        "# Number of times the website section visited\n",
        "\n",
        "site_browsing['Website_Section_Visited'].value_counts()"
      ],
      "execution_count": null,
      "outputs": [
        {
          "output_type": "execute_result",
          "data": {
            "text/plain": [
              "product                     1855680\n",
              "product-listing-category     823365\n",
              "home                         752124\n",
              "default                      552025\n",
              "content                      488874\n",
              "iroa                         428497\n",
              "cart                         323325\n",
              "product-listing-search       262481\n",
              "shoplive                      35810\n",
              "productNotFound                9333\n",
              "product-listing-custom         2970\n",
              "signupcomplete                 1312\n",
              "mys                              63\n",
              "error                            60\n",
              "lorigreiner                       3\n",
              "wishlist                          1\n",
              "category                          1\n",
              "Name: Website_Section_Visited, dtype: int64"
            ]
          },
          "metadata": {
            "tags": []
          },
          "execution_count": 10
        }
      ]
    },
    {
      "cell_type": "code",
      "metadata": {
        "colab": {
          "base_uri": "https://localhost:8080/",
          "height": 619
        },
        "id": "WP6pGSHCS4tE",
        "outputId": "318b85c3-0e76-4fd4-e226-e58974af0c8a"
      },
      "source": [
        "# Let us plot the number of times each wesbite section visited\n",
        "\n",
        "plt.figure(figsize= (12,8))\n",
        "sns.countplot(site_browsing['Website_Section_Visited'], order = site_browsing['Website_Section_Visited'].value_counts().index)\n",
        "plt.xticks(rotation=90);"
      ],
      "execution_count": null,
      "outputs": [
        {
          "output_type": "display_data",
          "data": {
            "image/png": "[encoded data removed]",
            "text/plain": [
              "<Figure size 864x576 with 1 Axes>"
            ]
          },
          "metadata": {
            "tags": [],
            "needs_background": "light"
          }
        }
      ]
    },
    {
      "cell_type": "markdown",
      "metadata": {
        "id": "W8Yfz9xvVfUJ"
      },
      "source": [
        "### **Reading Final_Conversion Dataset**"
      ]
    },
    {
      "cell_type": "code",
      "metadata": {
        "colab": {
          "base_uri": "https://localhost:8080/",
          "height": 204
        },
        "id": "7vV2wQaLd_Mi",
        "outputId": "14b50b1e-7c61-49d7-ecd7-f954000c7d18"
      },
      "source": [
        "# Loading final conversion data\n",
        "\n",
        "final_conversion = pd.read_csv('/content/drive/MyDrive/Projects/Supervised_Model/Problem2_FInalConversions', sep='\\t', header = None)\n",
        "final_conversion.columns = ['Timestamp', 'UserID', 'Products_Purchased', 'Cart_Value']\n",
        "final_conversion.head()"
      ],
      "execution_count": null,
      "outputs": [
        {
          "output_type": "execute_result",
          "data": {
            "text/html": [
              "<div>\n",
              "<style scoped>\n",
              "    .dataframe tbody tr th:only-of-type {\n",
              "        vertical-align: middle;\n",
              "    }\n",
              "\n",
              "    .dataframe tbody tr th {\n",
              "        vertical-align: top;\n",
              "    }\n",
              "\n",
              "    .dataframe thead th {\n",
              "        text-align: right;\n",
              "    }\n",
              "</style>\n",
              "<table border=\"1\" class=\"dataframe\">\n",
              "  <thead>\n",
              "    <tr style=\"text-align: right;\">\n",
              "      <th></th>\n",
              "      <th>Timestamp</th>\n",
              "      <th>UserID</th>\n",
              "      <th>Products_Purchased</th>\n",
              "      <th>Cart_Value</th>\n",
              "    </tr>\n",
              "  </thead>\n",
              "  <tbody>\n",
              "    <tr>\n",
              "      <th>0</th>\n",
              "      <td>2017-07-26 00:00:10.465</td>\n",
              "      <td>0</td>\n",
              "      <td>A293532</td>\n",
              "      <td>52.14</td>\n",
              "    </tr>\n",
              "    <tr>\n",
              "      <th>1</th>\n",
              "      <td>2017-07-26 00:00:12.301</td>\n",
              "      <td>0</td>\n",
              "      <td>H209597</td>\n",
              "      <td>31.50</td>\n",
              "    </tr>\n",
              "    <tr>\n",
              "      <th>2</th>\n",
              "      <td>2017-07-26 00:00:12.388</td>\n",
              "      <td>0</td>\n",
              "      <td>H211370</td>\n",
              "      <td>30.48</td>\n",
              "    </tr>\n",
              "    <tr>\n",
              "      <th>3</th>\n",
              "      <td>2017-07-26 00:00:14.389</td>\n",
              "      <td>0</td>\n",
              "      <td>A282331</td>\n",
              "      <td>51.00</td>\n",
              "    </tr>\n",
              "    <tr>\n",
              "      <th>4</th>\n",
              "      <td>2017-07-26 00:00:16.837</td>\n",
              "      <td>0</td>\n",
              "      <td>H211410</td>\n",
              "      <td>16.74</td>\n",
              "    </tr>\n",
              "  </tbody>\n",
              "</table>\n",
              "</div>"
            ],
            "text/plain": [
              "                 Timestamp  UserID Products_Purchased  Cart_Value\n",
              "0  2017-07-26 00:00:10.465       0            A293532       52.14\n",
              "1  2017-07-26 00:00:12.301       0            H209597       31.50\n",
              "2  2017-07-26 00:00:12.388       0            H211370       30.48\n",
              "3  2017-07-26 00:00:14.389       0            A282331       51.00\n",
              "4  2017-07-26 00:00:16.837       0            H211410       16.74"
            ]
          },
          "metadata": {
            "tags": []
          },
          "execution_count": 12
        }
      ]
    },
    {
      "cell_type": "code",
      "metadata": {
        "colab": {
          "base_uri": "https://localhost:8080/"
        },
        "id": "UNMWVUTcYnXw",
        "outputId": "d512a9a4-91ed-4446-e786-df0c70e5e91b"
      },
      "source": [
        "print('Shape of final conversion dataset:',final_conversion.shape)"
      ],
      "execution_count": null,
      "outputs": [
        {
          "output_type": "stream",
          "text": [
            "Shape of final conversion dataset: (79795, 4)\n"
          ],
          "name": "stdout"
        }
      ]
    },
    {
      "cell_type": "code",
      "metadata": {
        "colab": {
          "base_uri": "https://localhost:8080/"
        },
        "id": "hOE9v24-azI5",
        "outputId": "2e2bae1d-ec83-416b-8d77-60c96d7be478"
      },
      "source": [
        "# Checking null values in the conversion dataset\n",
        "\n",
        "final_conversion.isnull().sum()"
      ],
      "execution_count": null,
      "outputs": [
        {
          "output_type": "execute_result",
          "data": {
            "text/plain": [
              "Timestamp             0\n",
              "UserID                0\n",
              "Products_Purchased    0\n",
              "Cart_Value            0\n",
              "dtype: int64"
            ]
          },
          "metadata": {
            "tags": []
          },
          "execution_count": 14
        }
      ]
    },
    {
      "cell_type": "code",
      "metadata": {
        "colab": {
          "base_uri": "https://localhost:8080/"
        },
        "id": "nhPtZEczazES",
        "outputId": "06e166dd-5cc9-40bd-c723-baf293d4ae4d"
      },
      "source": [
        "# checking the summary of conversion dataset\n",
        "\n",
        "final_conversion.info()"
      ],
      "execution_count": null,
      "outputs": [
        {
          "output_type": "stream",
          "text": [
            "<class 'pandas.core.frame.DataFrame'>\n",
            "RangeIndex: 79795 entries, 0 to 79794\n",
            "Data columns (total 4 columns):\n",
            " #   Column              Non-Null Count  Dtype  \n",
            "---  ------              --------------  -----  \n",
            " 0   Timestamp           79795 non-null  object \n",
            " 1   UserID              79795 non-null  int64  \n",
            " 2   Products_Purchased  79795 non-null  object \n",
            " 3   Cart_Value          79795 non-null  float64\n",
            "dtypes: float64(1), int64(1), object(2)\n",
            "memory usage: 2.4+ MB\n"
          ],
          "name": "stdout"
        }
      ]
    },
    {
      "cell_type": "code",
      "metadata": {
        "colab": {
          "base_uri": "https://localhost:8080/"
        },
        "id": "9oE8-Wl1azA3",
        "outputId": "c01a128f-a37a-48e3-98c1-25f560e99d2c"
      },
      "source": [
        "# checking the number of unique 'UserID' in the final conversion dataset\n",
        "\n",
        "final_conversion['UserID'].nunique()"
      ],
      "execution_count": null,
      "outputs": [
        {
          "output_type": "execute_result",
          "data": {
            "text/plain": [
              "41009"
            ]
          },
          "metadata": {
            "tags": []
          },
          "execution_count": 16
        }
      ]
    },
    {
      "cell_type": "code",
      "metadata": {
        "colab": {
          "base_uri": "https://localhost:8080/",
          "height": 824
        },
        "id": "jWl5UkBhh8tu",
        "outputId": "874ac2df-54a8-449f-a4c7-b0ee094a285d"
      },
      "source": [
        "# Figuring out the top 25 products which were most purchased\n",
        "\n",
        "products = final_conversion['Products_Purchased'].value_counts()\n",
        "products_top25 = pd.DataFrame(products[:25]).reset_index()\n",
        "products_top25.columns = ['Product_Cat', 'Products_Purchased']\n",
        "products_top25"
      ],
      "execution_count": null,
      "outputs": [
        {
          "output_type": "execute_result",
          "data": {
            "text/html": [
              "<div>\n",
              "<style scoped>\n",
              "    .dataframe tbody tr th:only-of-type {\n",
              "        vertical-align: middle;\n",
              "    }\n",
              "\n",
              "    .dataframe tbody tr th {\n",
              "        vertical-align: top;\n",
              "    }\n",
              "\n",
              "    .dataframe thead th {\n",
              "        text-align: right;\n",
              "    }\n",
              "</style>\n",
              "<table border=\"1\" class=\"dataframe\">\n",
              "  <thead>\n",
              "    <tr style=\"text-align: right;\">\n",
              "      <th></th>\n",
              "      <th>Product_Cat</th>\n",
              "      <th>Products_Purchased</th>\n",
              "    </tr>\n",
              "  </thead>\n",
              "  <tbody>\n",
              "    <tr>\n",
              "      <th>0</th>\n",
              "      <td>K45766</td>\n",
              "      <td>6194</td>\n",
              "    </tr>\n",
              "    <tr>\n",
              "      <th>1</th>\n",
              "      <td>H211394</td>\n",
              "      <td>5168</td>\n",
              "    </tr>\n",
              "    <tr>\n",
              "      <th>2</th>\n",
              "      <td>H211370</td>\n",
              "      <td>4920</td>\n",
              "    </tr>\n",
              "    <tr>\n",
              "      <th>3</th>\n",
              "      <td>A293532</td>\n",
              "      <td>4798</td>\n",
              "    </tr>\n",
              "    <tr>\n",
              "      <th>4</th>\n",
              "      <td>H211397</td>\n",
              "      <td>1434</td>\n",
              "    </tr>\n",
              "    <tr>\n",
              "      <th>5</th>\n",
              "      <td>A302728</td>\n",
              "      <td>1341</td>\n",
              "    </tr>\n",
              "    <tr>\n",
              "      <th>6</th>\n",
              "      <td>A299297</td>\n",
              "      <td>1334</td>\n",
              "    </tr>\n",
              "    <tr>\n",
              "      <th>7</th>\n",
              "      <td>H205246</td>\n",
              "      <td>1193</td>\n",
              "    </tr>\n",
              "    <tr>\n",
              "      <th>8</th>\n",
              "      <td>H211939</td>\n",
              "      <td>1134</td>\n",
              "    </tr>\n",
              "    <tr>\n",
              "      <th>9</th>\n",
              "      <td>K41372</td>\n",
              "      <td>924</td>\n",
              "    </tr>\n",
              "    <tr>\n",
              "      <th>10</th>\n",
              "      <td>H211800</td>\n",
              "      <td>882</td>\n",
              "    </tr>\n",
              "    <tr>\n",
              "      <th>11</th>\n",
              "      <td>H212471</td>\n",
              "      <td>817</td>\n",
              "    </tr>\n",
              "    <tr>\n",
              "      <th>12</th>\n",
              "      <td>V34738</td>\n",
              "      <td>754</td>\n",
              "    </tr>\n",
              "    <tr>\n",
              "      <th>13</th>\n",
              "      <td>H211560</td>\n",
              "      <td>698</td>\n",
              "    </tr>\n",
              "    <tr>\n",
              "      <th>14</th>\n",
              "      <td>T34277</td>\n",
              "      <td>571</td>\n",
              "    </tr>\n",
              "    <tr>\n",
              "      <th>15</th>\n",
              "      <td>H212472</td>\n",
              "      <td>532</td>\n",
              "    </tr>\n",
              "    <tr>\n",
              "      <th>16</th>\n",
              "      <td>V34413</td>\n",
              "      <td>532</td>\n",
              "    </tr>\n",
              "    <tr>\n",
              "      <th>17</th>\n",
              "      <td>M55161</td>\n",
              "      <td>495</td>\n",
              "    </tr>\n",
              "    <tr>\n",
              "      <th>18</th>\n",
              "      <td>A296467</td>\n",
              "      <td>433</td>\n",
              "    </tr>\n",
              "    <tr>\n",
              "      <th>19</th>\n",
              "      <td>A294372</td>\n",
              "      <td>410</td>\n",
              "    </tr>\n",
              "    <tr>\n",
              "      <th>20</th>\n",
              "      <td>T34980</td>\n",
              "      <td>376</td>\n",
              "    </tr>\n",
              "    <tr>\n",
              "      <th>21</th>\n",
              "      <td>K45766,K41372</td>\n",
              "      <td>297</td>\n",
              "    </tr>\n",
              "    <tr>\n",
              "      <th>22</th>\n",
              "      <td>A302761</td>\n",
              "      <td>289</td>\n",
              "    </tr>\n",
              "    <tr>\n",
              "      <th>23</th>\n",
              "      <td>M55160</td>\n",
              "      <td>280</td>\n",
              "    </tr>\n",
              "    <tr>\n",
              "      <th>24</th>\n",
              "      <td>V34747</td>\n",
              "      <td>249</td>\n",
              "    </tr>\n",
              "  </tbody>\n",
              "</table>\n",
              "</div>"
            ],
            "text/plain": [
              "      Product_Cat  Products_Purchased\n",
              "0          K45766                6194\n",
              "1         H211394                5168\n",
              "2         H211370                4920\n",
              "3         A293532                4798\n",
              "4         H211397                1434\n",
              "5         A302728                1341\n",
              "6         A299297                1334\n",
              "7         H205246                1193\n",
              "8         H211939                1134\n",
              "9          K41372                 924\n",
              "10        H211800                 882\n",
              "11        H212471                 817\n",
              "12         V34738                 754\n",
              "13        H211560                 698\n",
              "14         T34277                 571\n",
              "15        H212472                 532\n",
              "16         V34413                 532\n",
              "17         M55161                 495\n",
              "18        A296467                 433\n",
              "19        A294372                 410\n",
              "20         T34980                 376\n",
              "21  K45766,K41372                 297\n",
              "22        A302761                 289\n",
              "23         M55160                 280\n",
              "24         V34747                 249"
            ]
          },
          "metadata": {
            "tags": []
          },
          "execution_count": 17
        }
      ]
    },
    {
      "cell_type": "code",
      "metadata": {
        "colab": {
          "base_uri": "https://localhost:8080/",
          "height": 552
        },
        "id": "tPSyoqREl7Bj",
        "outputId": "0d4ffa78-e164-429d-cf65-27e09fafa291"
      },
      "source": [
        "# Ploting number of times products were purchased\n",
        "\n",
        "plt.figure(figsize= (12,8))\n",
        "plt.bar(products_top25['Product_Cat'], products_top25.Products_Purchased)\n",
        "plt.xticks(products_top25.Product_Cat.index.values, rotation=90)\n",
        "plt.yticks(products_top25.Products_Purchased);"
      ],
      "execution_count": null,
      "outputs": [
        {
          "output_type": "display_data",
          "data": {
            "image/png": "[encoded data removed]",
            "text/plain": [
              "<Figure size 864x576 with 1 Axes>"
            ]
          },
          "metadata": {
            "tags": [],
            "needs_background": "light"
          }
        }
      ]
    },
    {
      "cell_type": "markdown",
      "metadata": {
        "id": "Th3cz9tcJdkL"
      },
      "source": [
        "### **Merging Two Datasets, Generating New Features and doing EDA**\n"
      ]
    },
    {
      "cell_type": "code",
      "metadata": {
        "id": "dk2Lc_gfZRCB"
      },
      "source": [
        "# Merging two dataframes\n",
        "\n",
        "df_final = pd.merge(final_conversion,site_browsing, on=['UserID'], how='inner', left_index = True, right_index = True)\n"
      ],
      "execution_count": null,
      "outputs": []
    },
    {
      "cell_type": "code",
      "metadata": {
        "colab": {
          "base_uri": "https://localhost:8080/",
          "height": 204
        },
        "id": "LNrKnpOFZ58p",
        "outputId": "6f09f4fb-9130-408d-fafd-2eecb3e686f2"
      },
      "source": [
        "df_final.head()"
      ],
      "execution_count": null,
      "outputs": [
        {
          "output_type": "execute_result",
          "data": {
            "text/html": [
              "<div>\n",
              "<style scoped>\n",
              "    .dataframe tbody tr th:only-of-type {\n",
              "        vertical-align: middle;\n",
              "    }\n",
              "\n",
              "    .dataframe tbody tr th {\n",
              "        vertical-align: top;\n",
              "    }\n",
              "\n",
              "    .dataframe thead th {\n",
              "        text-align: right;\n",
              "    }\n",
              "</style>\n",
              "<table border=\"1\" class=\"dataframe\">\n",
              "  <thead>\n",
              "    <tr style=\"text-align: right;\">\n",
              "      <th></th>\n",
              "      <th>Timestamp_x</th>\n",
              "      <th>UserID</th>\n",
              "      <th>Products_Purchased</th>\n",
              "      <th>Cart_Value</th>\n",
              "      <th>Timestamp_y</th>\n",
              "      <th>Website_Section_Visited</th>\n",
              "    </tr>\n",
              "  </thead>\n",
              "  <tbody>\n",
              "    <tr>\n",
              "      <th>0</th>\n",
              "      <td>2017-07-26 00:00:10.465</td>\n",
              "      <td>0</td>\n",
              "      <td>A293532</td>\n",
              "      <td>52.14</td>\n",
              "      <td>2017-07-26 00:01:40.965</td>\n",
              "      <td>product</td>\n",
              "    </tr>\n",
              "    <tr>\n",
              "      <th>1</th>\n",
              "      <td>2017-07-26 00:00:12.301</td>\n",
              "      <td>0</td>\n",
              "      <td>H209597</td>\n",
              "      <td>31.50</td>\n",
              "      <td>2017-07-26 00:03:18.448</td>\n",
              "      <td>product</td>\n",
              "    </tr>\n",
              "    <tr>\n",
              "      <th>2</th>\n",
              "      <td>2017-07-26 00:00:12.388</td>\n",
              "      <td>0</td>\n",
              "      <td>H211370</td>\n",
              "      <td>30.48</td>\n",
              "      <td>2017-07-26 00:36:59.028</td>\n",
              "      <td>default</td>\n",
              "    </tr>\n",
              "    <tr>\n",
              "      <th>3</th>\n",
              "      <td>2017-07-26 00:00:14.389</td>\n",
              "      <td>0</td>\n",
              "      <td>A282331</td>\n",
              "      <td>51.00</td>\n",
              "      <td>2017-07-26 00:41:17.273</td>\n",
              "      <td>product-listing-category</td>\n",
              "    </tr>\n",
              "    <tr>\n",
              "      <th>4</th>\n",
              "      <td>2017-07-26 00:00:16.837</td>\n",
              "      <td>0</td>\n",
              "      <td>H211410</td>\n",
              "      <td>16.74</td>\n",
              "      <td>2017-07-26 00:45:39.197</td>\n",
              "      <td>content</td>\n",
              "    </tr>\n",
              "  </tbody>\n",
              "</table>\n",
              "</div>"
            ],
            "text/plain": [
              "               Timestamp_x  ...   Website_Section_Visited\n",
              "0  2017-07-26 00:00:10.465  ...                   product\n",
              "1  2017-07-26 00:00:12.301  ...                   product\n",
              "2  2017-07-26 00:00:12.388  ...                   default\n",
              "3  2017-07-26 00:00:14.389  ...  product-listing-category\n",
              "4  2017-07-26 00:00:16.837  ...                   content\n",
              "\n",
              "[5 rows x 6 columns]"
            ]
          },
          "metadata": {
            "tags": []
          },
          "execution_count": 20
        }
      ]
    },
    {
      "cell_type": "code",
      "metadata": {
        "id": "mydnKqApcmmt"
      },
      "source": [
        "df_final['Date_time_x'] = pd.to_datetime(df_final['Timestamp_x'])\n",
        "df_final['Date_time_y'] = pd.to_datetime(df_final['Timestamp_y'])"
      ],
      "execution_count": null,
      "outputs": []
    },
    {
      "cell_type": "code",
      "metadata": {
        "colab": {
          "base_uri": "https://localhost:8080/"
        },
        "id": "RND9f6fH7qtb",
        "outputId": "09ddb159-1f08-404b-d526-47fadcf927f9"
      },
      "source": [
        "df_final.info()"
      ],
      "execution_count": null,
      "outputs": [
        {
          "output_type": "stream",
          "text": [
            "<class 'pandas.core.frame.DataFrame'>\n",
            "Int64Index: 79795 entries, 0 to 79794\n",
            "Data columns (total 8 columns):\n",
            " #   Column                   Non-Null Count  Dtype         \n",
            "---  ------                   --------------  -----         \n",
            " 0   Timestamp_x              79795 non-null  object        \n",
            " 1   UserID                   79795 non-null  int64         \n",
            " 2   Products_Purchased       79795 non-null  object        \n",
            " 3   Cart_Value               79795 non-null  float64       \n",
            " 4   Timestamp_y              79795 non-null  object        \n",
            " 5   Website_Section_Visited  79795 non-null  object        \n",
            " 6   Date_time_x              79795 non-null  datetime64[ns]\n",
            " 7   Date_time_y              79795 non-null  datetime64[ns]\n",
            "dtypes: datetime64[ns](2), float64(1), int64(1), object(4)\n",
            "memory usage: 5.5+ MB\n"
          ],
          "name": "stdout"
        }
      ]
    },
    {
      "cell_type": "code",
      "metadata": {
        "id": "4aMPo499eAcC"
      },
      "source": [
        "# Time conversion\n",
        "\n",
        "import datetime\n",
        "from datetime import timedelta\n",
        "\n",
        "def Time_conversion(df_final):\n",
        "  time_delta = df_final['Date_time_y'] - df_final['Date_time_x']\n",
        "\n",
        "  total_seconds = time_delta.total_seconds()\n",
        "\n",
        "  minutes = total_seconds/60\n",
        "\n",
        "  return abs(minutes)\n"
      ],
      "execution_count": null,
      "outputs": []
    },
    {
      "cell_type": "code",
      "metadata": {
        "colab": {
          "base_uri": "https://localhost:8080/",
          "height": 204
        },
        "id": "mzJP2Ok1fQj_",
        "outputId": "6726db48-4562-4aff-c6ea-84e7d0b534bb"
      },
      "source": [
        "df_final['Time_spent_Minutes'] = df_final.apply(Time_conversion, axis = 1)\n",
        "\n",
        "df_final.drop(['Timestamp_x', 'Timestamp_y', 'Date_time_x', 'Date_time_y'], axis=1, inplace=True)\n",
        "\n",
        "df_final.head()"
      ],
      "execution_count": null,
      "outputs": [
        {
          "output_type": "execute_result",
          "data": {
            "text/html": [
              "<div>\n",
              "<style scoped>\n",
              "    .dataframe tbody tr th:only-of-type {\n",
              "        vertical-align: middle;\n",
              "    }\n",
              "\n",
              "    .dataframe tbody tr th {\n",
              "        vertical-align: top;\n",
              "    }\n",
              "\n",
              "    .dataframe thead th {\n",
              "        text-align: right;\n",
              "    }\n",
              "</style>\n",
              "<table border=\"1\" class=\"dataframe\">\n",
              "  <thead>\n",
              "    <tr style=\"text-align: right;\">\n",
              "      <th></th>\n",
              "      <th>UserID</th>\n",
              "      <th>Products_Purchased</th>\n",
              "      <th>Cart_Value</th>\n",
              "      <th>Website_Section_Visited</th>\n",
              "      <th>Time_spent_Minutes</th>\n",
              "    </tr>\n",
              "  </thead>\n",
              "  <tbody>\n",
              "    <tr>\n",
              "      <th>0</th>\n",
              "      <td>0</td>\n",
              "      <td>A293532</td>\n",
              "      <td>52.14</td>\n",
              "      <td>product</td>\n",
              "      <td>1.508333</td>\n",
              "    </tr>\n",
              "    <tr>\n",
              "      <th>1</th>\n",
              "      <td>0</td>\n",
              "      <td>H209597</td>\n",
              "      <td>31.50</td>\n",
              "      <td>product</td>\n",
              "      <td>3.102450</td>\n",
              "    </tr>\n",
              "    <tr>\n",
              "      <th>2</th>\n",
              "      <td>0</td>\n",
              "      <td>H211370</td>\n",
              "      <td>30.48</td>\n",
              "      <td>default</td>\n",
              "      <td>36.777333</td>\n",
              "    </tr>\n",
              "    <tr>\n",
              "      <th>3</th>\n",
              "      <td>0</td>\n",
              "      <td>A282331</td>\n",
              "      <td>51.00</td>\n",
              "      <td>product-listing-category</td>\n",
              "      <td>41.048067</td>\n",
              "    </tr>\n",
              "    <tr>\n",
              "      <th>4</th>\n",
              "      <td>0</td>\n",
              "      <td>H211410</td>\n",
              "      <td>16.74</td>\n",
              "      <td>content</td>\n",
              "      <td>45.372667</td>\n",
              "    </tr>\n",
              "  </tbody>\n",
              "</table>\n",
              "</div>"
            ],
            "text/plain": [
              "   UserID Products_Purchased  ...   Website_Section_Visited Time_spent_Minutes\n",
              "0       0            A293532  ...                   product           1.508333\n",
              "1       0            H209597  ...                   product           3.102450\n",
              "2       0            H211370  ...                   default          36.777333\n",
              "3       0            A282331  ...  product-listing-category          41.048067\n",
              "4       0            H211410  ...                   content          45.372667\n",
              "\n",
              "[5 rows x 5 columns]"
            ]
          },
          "metadata": {
            "tags": []
          },
          "execution_count": 24
        }
      ]
    },
    {
      "cell_type": "markdown",
      "metadata": {
        "id": "Jl2-wU2xM7nO"
      },
      "source": [
        "**Creating engineered features for further analysis.**"
      ]
    },
    {
      "cell_type": "code",
      "metadata": {
        "colab": {
          "base_uri": "https://localhost:8080/",
          "height": 204
        },
        "id": "exUfpCKYVhRV",
        "outputId": "c22afdd3-bed2-4139-d77b-c6ddafbd8aab"
      },
      "source": [
        "# Creating a new feature to figure out an account/UserID visited the website number of times\n",
        "\n",
        "Login_count = site_browsing.groupby('UserID').Website_Section_Visited.agg(['count']).reindex(site_browsing.UserID).reset_index()\n",
        "\n",
        "Login_count.columns = ['UserID', 'No_of_times_visited']\n",
        "\n",
        "Login_count = Login_count.sort_values(by = 'No_of_times_visited', ascending = False)\n",
        "\n",
        "Login_count.drop_duplicates(inplace=True)\n",
        "\n",
        "Login_count.head() "
      ],
      "execution_count": null,
      "outputs": [
        {
          "output_type": "execute_result",
          "data": {
            "text/html": [
              "<div>\n",
              "<style scoped>\n",
              "    .dataframe tbody tr th:only-of-type {\n",
              "        vertical-align: middle;\n",
              "    }\n",
              "\n",
              "    .dataframe tbody tr th {\n",
              "        vertical-align: top;\n",
              "    }\n",
              "\n",
              "    .dataframe thead th {\n",
              "        text-align: right;\n",
              "    }\n",
              "</style>\n",
              "<table border=\"1\" class=\"dataframe\">\n",
              "  <thead>\n",
              "    <tr style=\"text-align: right;\">\n",
              "      <th></th>\n",
              "      <th>UserID</th>\n",
              "      <th>No_of_times_visited</th>\n",
              "    </tr>\n",
              "  </thead>\n",
              "  <tbody>\n",
              "    <tr>\n",
              "      <th>0</th>\n",
              "      <td>0</td>\n",
              "      <td>1407879</td>\n",
              "    </tr>\n",
              "    <tr>\n",
              "      <th>3606718</th>\n",
              "      <td>3077341700699443780</td>\n",
              "      <td>3106</td>\n",
              "    </tr>\n",
              "    <tr>\n",
              "      <th>814545</th>\n",
              "      <td>7190685980615725949</td>\n",
              "      <td>821</td>\n",
              "    </tr>\n",
              "    <tr>\n",
              "      <th>3134306</th>\n",
              "      <td>1215902060999829238</td>\n",
              "      <td>723</td>\n",
              "    </tr>\n",
              "    <tr>\n",
              "      <th>4931477</th>\n",
              "      <td>7188604889406730572</td>\n",
              "      <td>550</td>\n",
              "    </tr>\n",
              "  </tbody>\n",
              "</table>\n",
              "</div>"
            ],
            "text/plain": [
              "                      UserID  No_of_times_visited\n",
              "0                          0              1407879\n",
              "3606718  3077341700699443780                 3106\n",
              "814545   7190685980615725949                  821\n",
              "3134306  1215902060999829238                  723\n",
              "4931477  7188604889406730572                  550"
            ]
          },
          "metadata": {
            "tags": []
          },
          "execution_count": 25
        }
      ]
    },
    {
      "cell_type": "code",
      "metadata": {
        "colab": {
          "base_uri": "https://localhost:8080/",
          "height": 204
        },
        "id": "NzXFFYKBgoMC",
        "outputId": "ea9600cb-7b93-4bc8-eab3-865dc31965fb"
      },
      "source": [
        "# Another new feature to know total money spent by each UserID\n",
        "\n",
        "individual_purchase = df_final.groupby('UserID')['Cart_Value'].agg(['sum']).reindex(df_final['UserID']).reset_index()\n",
        "\n",
        "individual_purchase.drop_duplicates(inplace=True)\n",
        "\n",
        "individual_purchase.columns = ['UserID', 'Total_cart_value']\n",
        "\n",
        "individual_purchase.head()"
      ],
      "execution_count": null,
      "outputs": [
        {
          "output_type": "execute_result",
          "data": {
            "text/html": [
              "<div>\n",
              "<style scoped>\n",
              "    .dataframe tbody tr th:only-of-type {\n",
              "        vertical-align: middle;\n",
              "    }\n",
              "\n",
              "    .dataframe tbody tr th {\n",
              "        vertical-align: top;\n",
              "    }\n",
              "\n",
              "    .dataframe thead th {\n",
              "        text-align: right;\n",
              "    }\n",
              "</style>\n",
              "<table border=\"1\" class=\"dataframe\">\n",
              "  <thead>\n",
              "    <tr style=\"text-align: right;\">\n",
              "      <th></th>\n",
              "      <th>UserID</th>\n",
              "      <th>Total_cart_value</th>\n",
              "    </tr>\n",
              "  </thead>\n",
              "  <tbody>\n",
              "    <tr>\n",
              "      <th>0</th>\n",
              "      <td>0</td>\n",
              "      <td>1375101.66</td>\n",
              "    </tr>\n",
              "    <tr>\n",
              "      <th>548</th>\n",
              "      <td>5942997097932061</td>\n",
              "      <td>157.95</td>\n",
              "    </tr>\n",
              "    <tr>\n",
              "      <th>549</th>\n",
              "      <td>23951842225160889</td>\n",
              "      <td>60.96</td>\n",
              "    </tr>\n",
              "    <tr>\n",
              "      <th>551</th>\n",
              "      <td>30833658052409950</td>\n",
              "      <td>216.12</td>\n",
              "    </tr>\n",
              "    <tr>\n",
              "      <th>552</th>\n",
              "      <td>33873861847792934</td>\n",
              "      <td>53.24</td>\n",
              "    </tr>\n",
              "  </tbody>\n",
              "</table>\n",
              "</div>"
            ],
            "text/plain": [
              "                UserID  Total_cart_value\n",
              "0                    0        1375101.66\n",
              "548   5942997097932061            157.95\n",
              "549  23951842225160889             60.96\n",
              "551  30833658052409950            216.12\n",
              "552  33873861847792934             53.24"
            ]
          },
          "metadata": {
            "tags": []
          },
          "execution_count": 26
        }
      ]
    },
    {
      "cell_type": "code",
      "metadata": {
        "colab": {
          "base_uri": "https://localhost:8080/",
          "height": 204
        },
        "id": "mBy0ZrtPupl3",
        "outputId": "0ab6fd1a-2210-4ed7-e4b5-dedc30fcf275"
      },
      "source": [
        "# Creating this new feature to know total transaction by Each UserID\n",
        "\n",
        "df_cart_Products = df_final.groupby('UserID')['Products_Purchased'].agg(['count']).reindex(df_final['UserID']).reset_index()\n",
        "df_cart_Products.drop_duplicates(inplace=True)\n",
        "\n",
        "df_cart_Products.columns = ['UserID', 'Total_Products_Purchased']\n",
        "\n",
        "df_cart_Products.head()"
      ],
      "execution_count": null,
      "outputs": [
        {
          "output_type": "execute_result",
          "data": {
            "text/html": [
              "<div>\n",
              "<style scoped>\n",
              "    .dataframe tbody tr th:only-of-type {\n",
              "        vertical-align: middle;\n",
              "    }\n",
              "\n",
              "    .dataframe tbody tr th {\n",
              "        vertical-align: top;\n",
              "    }\n",
              "\n",
              "    .dataframe thead th {\n",
              "        text-align: right;\n",
              "    }\n",
              "</style>\n",
              "<table border=\"1\" class=\"dataframe\">\n",
              "  <thead>\n",
              "    <tr style=\"text-align: right;\">\n",
              "      <th></th>\n",
              "      <th>UserID</th>\n",
              "      <th>Total_Products_Purchased</th>\n",
              "    </tr>\n",
              "  </thead>\n",
              "  <tbody>\n",
              "    <tr>\n",
              "      <th>0</th>\n",
              "      <td>0</td>\n",
              "      <td>20197</td>\n",
              "    </tr>\n",
              "    <tr>\n",
              "      <th>548</th>\n",
              "      <td>5942997097932061</td>\n",
              "      <td>1</td>\n",
              "    </tr>\n",
              "    <tr>\n",
              "      <th>549</th>\n",
              "      <td>23951842225160889</td>\n",
              "      <td>2</td>\n",
              "    </tr>\n",
              "    <tr>\n",
              "      <th>551</th>\n",
              "      <td>30833658052409950</td>\n",
              "      <td>5</td>\n",
              "    </tr>\n",
              "    <tr>\n",
              "      <th>552</th>\n",
              "      <td>33873861847792934</td>\n",
              "      <td>1</td>\n",
              "    </tr>\n",
              "  </tbody>\n",
              "</table>\n",
              "</div>"
            ],
            "text/plain": [
              "                UserID  Total_Products_Purchased\n",
              "0                    0                     20197\n",
              "548   5942997097932061                         1\n",
              "549  23951842225160889                         2\n",
              "551  30833658052409950                         5\n",
              "552  33873861847792934                         1"
            ]
          },
          "metadata": {
            "tags": []
          },
          "execution_count": 27
        }
      ]
    },
    {
      "cell_type": "code",
      "metadata": {
        "colab": {
          "base_uri": "https://localhost:8080/",
          "height": 204
        },
        "id": "HpRTsAN9wUmG",
        "outputId": "43afe2f7-59c1-459c-a025-a34ae009e4f1"
      },
      "source": [
        "# Creating this new feature to know total time spent by each UserID in minutes\n",
        "\n",
        "individual_time_spent = df_final.groupby('UserID')['Time_spent_Minutes'].agg(['sum']).reindex(df_final['UserID']).reset_index()\n",
        "individual_time_spent.drop_duplicates(inplace=True)\n",
        "\n",
        "pd.set_option('display.float_format', lambda x: '%.3f' % x)\n",
        "\n",
        "individual_time_spent.columns = ['UserID', 'Total_Time_Spent']\n",
        "\n",
        "individual_time_spent.head()"
      ],
      "execution_count": null,
      "outputs": [
        {
          "output_type": "execute_result",
          "data": {
            "text/html": [
              "<div>\n",
              "<style scoped>\n",
              "    .dataframe tbody tr th:only-of-type {\n",
              "        vertical-align: middle;\n",
              "    }\n",
              "\n",
              "    .dataframe tbody tr th {\n",
              "        vertical-align: top;\n",
              "    }\n",
              "\n",
              "    .dataframe thead th {\n",
              "        text-align: right;\n",
              "    }\n",
              "</style>\n",
              "<table border=\"1\" class=\"dataframe\">\n",
              "  <thead>\n",
              "    <tr style=\"text-align: right;\">\n",
              "      <th></th>\n",
              "      <th>UserID</th>\n",
              "      <th>Total_Time_Spent</th>\n",
              "    </tr>\n",
              "  </thead>\n",
              "  <tbody>\n",
              "    <tr>\n",
              "      <th>0</th>\n",
              "      <td>0</td>\n",
              "      <td>11780947.272</td>\n",
              "    </tr>\n",
              "    <tr>\n",
              "      <th>548</th>\n",
              "      <td>5942997097932061</td>\n",
              "      <td>0.450</td>\n",
              "    </tr>\n",
              "    <tr>\n",
              "      <th>549</th>\n",
              "      <td>23951842225160889</td>\n",
              "      <td>52.050</td>\n",
              "    </tr>\n",
              "    <tr>\n",
              "      <th>551</th>\n",
              "      <td>30833658052409950</td>\n",
              "      <td>381.190</td>\n",
              "    </tr>\n",
              "    <tr>\n",
              "      <th>552</th>\n",
              "      <td>33873861847792934</td>\n",
              "      <td>10.063</td>\n",
              "    </tr>\n",
              "  </tbody>\n",
              "</table>\n",
              "</div>"
            ],
            "text/plain": [
              "                UserID  Total_Time_Spent\n",
              "0                    0      11780947.272\n",
              "548   5942997097932061             0.450\n",
              "549  23951842225160889            52.050\n",
              "551  30833658052409950           381.190\n",
              "552  33873861847792934            10.063"
            ]
          },
          "metadata": {
            "tags": []
          },
          "execution_count": 28
        }
      ]
    },
    {
      "cell_type": "code",
      "metadata": {
        "colab": {
          "base_uri": "https://localhost:8080/",
          "height": 204
        },
        "id": "fD7820F2yFYs",
        "outputId": "5e9c1963-6629-4865-c0ca-96b8561891ee"
      },
      "source": [
        "df_final.head()"
      ],
      "execution_count": null,
      "outputs": [
        {
          "output_type": "execute_result",
          "data": {
            "text/html": [
              "<div>\n",
              "<style scoped>\n",
              "    .dataframe tbody tr th:only-of-type {\n",
              "        vertical-align: middle;\n",
              "    }\n",
              "\n",
              "    .dataframe tbody tr th {\n",
              "        vertical-align: top;\n",
              "    }\n",
              "\n",
              "    .dataframe thead th {\n",
              "        text-align: right;\n",
              "    }\n",
              "</style>\n",
              "<table border=\"1\" class=\"dataframe\">\n",
              "  <thead>\n",
              "    <tr style=\"text-align: right;\">\n",
              "      <th></th>\n",
              "      <th>UserID</th>\n",
              "      <th>Products_Purchased</th>\n",
              "      <th>Cart_Value</th>\n",
              "      <th>Website_Section_Visited</th>\n",
              "      <th>Time_spent_Minutes</th>\n",
              "    </tr>\n",
              "  </thead>\n",
              "  <tbody>\n",
              "    <tr>\n",
              "      <th>0</th>\n",
              "      <td>0</td>\n",
              "      <td>A293532</td>\n",
              "      <td>52.140</td>\n",
              "      <td>product</td>\n",
              "      <td>1.508</td>\n",
              "    </tr>\n",
              "    <tr>\n",
              "      <th>1</th>\n",
              "      <td>0</td>\n",
              "      <td>H209597</td>\n",
              "      <td>31.500</td>\n",
              "      <td>product</td>\n",
              "      <td>3.102</td>\n",
              "    </tr>\n",
              "    <tr>\n",
              "      <th>2</th>\n",
              "      <td>0</td>\n",
              "      <td>H211370</td>\n",
              "      <td>30.480</td>\n",
              "      <td>default</td>\n",
              "      <td>36.777</td>\n",
              "    </tr>\n",
              "    <tr>\n",
              "      <th>3</th>\n",
              "      <td>0</td>\n",
              "      <td>A282331</td>\n",
              "      <td>51.000</td>\n",
              "      <td>product-listing-category</td>\n",
              "      <td>41.048</td>\n",
              "    </tr>\n",
              "    <tr>\n",
              "      <th>4</th>\n",
              "      <td>0</td>\n",
              "      <td>H211410</td>\n",
              "      <td>16.740</td>\n",
              "      <td>content</td>\n",
              "      <td>45.373</td>\n",
              "    </tr>\n",
              "  </tbody>\n",
              "</table>\n",
              "</div>"
            ],
            "text/plain": [
              "   UserID Products_Purchased  ...   Website_Section_Visited Time_spent_Minutes\n",
              "0       0            A293532  ...                   product              1.508\n",
              "1       0            H209597  ...                   product              3.102\n",
              "2       0            H211370  ...                   default             36.777\n",
              "3       0            A282331  ...  product-listing-category             41.048\n",
              "4       0            H211410  ...                   content             45.373\n",
              "\n",
              "[5 rows x 5 columns]"
            ]
          },
          "metadata": {
            "tags": []
          },
          "execution_count": 29
        }
      ]
    },
    {
      "cell_type": "code",
      "metadata": {
        "colab": {
          "base_uri": "https://localhost:8080/",
          "height": 224
        },
        "id": "WDAB87yQyH9m",
        "outputId": "1a413a72-d1fc-4ffc-db0d-7f02a075c6c6"
      },
      "source": [
        "# merging 4 engineered datasets with final dataset\n",
        "\n",
        "df_final.drop_duplicates(subset='UserID', keep='first', inplace=True)\n",
        "\n",
        "df_final = pd.merge(df_final, individual_purchase, on=['UserID'], how='inner', left_index=True, right_index=True)\n",
        "\n",
        "df_final = pd.merge(df_final, df_cart_Products, on=['UserID'], how='inner', left_index=True, right_index=True)\n",
        "\n",
        "df_final = pd.merge(df_final, individual_time_spent, on=['UserID'], how='inner', left_index=True, right_index=True)\n",
        "\n",
        "df_final = pd.merge(df_final, Login_count, on=['UserID'], how='inner')\n",
        "\n",
        "df_final.head()"
      ],
      "execution_count": null,
      "outputs": [
        {
          "output_type": "execute_result",
          "data": {
            "text/html": [
              "<div>\n",
              "<style scoped>\n",
              "    .dataframe tbody tr th:only-of-type {\n",
              "        vertical-align: middle;\n",
              "    }\n",
              "\n",
              "    .dataframe tbody tr th {\n",
              "        vertical-align: top;\n",
              "    }\n",
              "\n",
              "    .dataframe thead th {\n",
              "        text-align: right;\n",
              "    }\n",
              "</style>\n",
              "<table border=\"1\" class=\"dataframe\">\n",
              "  <thead>\n",
              "    <tr style=\"text-align: right;\">\n",
              "      <th></th>\n",
              "      <th>UserID</th>\n",
              "      <th>Products_Purchased</th>\n",
              "      <th>Cart_Value</th>\n",
              "      <th>Website_Section_Visited</th>\n",
              "      <th>Time_spent_Minutes</th>\n",
              "      <th>Total_cart_value</th>\n",
              "      <th>Total_Products_Purchased</th>\n",
              "      <th>Total_Time_Spent</th>\n",
              "      <th>No_of_times_visited</th>\n",
              "    </tr>\n",
              "  </thead>\n",
              "  <tbody>\n",
              "    <tr>\n",
              "      <th>0</th>\n",
              "      <td>0</td>\n",
              "      <td>A293532</td>\n",
              "      <td>52.140</td>\n",
              "      <td>product</td>\n",
              "      <td>1.508</td>\n",
              "      <td>1375101.660</td>\n",
              "      <td>20197</td>\n",
              "      <td>11780947.272</td>\n",
              "      <td>1407879</td>\n",
              "    </tr>\n",
              "    <tr>\n",
              "      <th>1</th>\n",
              "      <td>23951842225160889</td>\n",
              "      <td>H211370</td>\n",
              "      <td>33.480</td>\n",
              "      <td>product-listing-search</td>\n",
              "      <td>26.025</td>\n",
              "      <td>60.960</td>\n",
              "      <td>2</td>\n",
              "      <td>52.050</td>\n",
              "      <td>8</td>\n",
              "    </tr>\n",
              "    <tr>\n",
              "      <th>2</th>\n",
              "      <td>30833658052409950</td>\n",
              "      <td>H211394</td>\n",
              "      <td>44.680</td>\n",
              "      <td>content</td>\n",
              "      <td>54.915</td>\n",
              "      <td>216.120</td>\n",
              "      <td>5</td>\n",
              "      <td>381.190</td>\n",
              "      <td>13</td>\n",
              "    </tr>\n",
              "    <tr>\n",
              "      <th>3</th>\n",
              "      <td>33873861847792934</td>\n",
              "      <td>H211800</td>\n",
              "      <td>53.240</td>\n",
              "      <td>product</td>\n",
              "      <td>10.063</td>\n",
              "      <td>53.240</td>\n",
              "      <td>1</td>\n",
              "      <td>10.063</td>\n",
              "      <td>5</td>\n",
              "    </tr>\n",
              "    <tr>\n",
              "      <th>4</th>\n",
              "      <td>42949238806579040</td>\n",
              "      <td>A286591</td>\n",
              "      <td>30.000</td>\n",
              "      <td>default</td>\n",
              "      <td>14.424</td>\n",
              "      <td>52.480</td>\n",
              "      <td>2</td>\n",
              "      <td>1424.197</td>\n",
              "      <td>20</td>\n",
              "    </tr>\n",
              "  </tbody>\n",
              "</table>\n",
              "</div>"
            ],
            "text/plain": [
              "              UserID Products_Purchased  ...  Total_Time_Spent No_of_times_visited\n",
              "0                  0            A293532  ...      11780947.272             1407879\n",
              "1  23951842225160889            H211370  ...            52.050                   8\n",
              "2  30833658052409950            H211394  ...           381.190                  13\n",
              "3  33873861847792934            H211800  ...            10.063                   5\n",
              "4  42949238806579040            A286591  ...          1424.197                  20\n",
              "\n",
              "[5 rows x 9 columns]"
            ]
          },
          "metadata": {
            "tags": []
          },
          "execution_count": 30
        }
      ]
    },
    {
      "cell_type": "code",
      "metadata": {
        "id": "uruM73SU01IL"
      },
      "source": [
        "# Dropping unncessary features for further analysis.\n",
        "\n",
        "df_final.drop(['Products_Purchased', 'Cart_Value', 'Website_Section_Visited', 'Time_spent_Minutes'], axis = 1, inplace=True)"
      ],
      "execution_count": null,
      "outputs": []
    },
    {
      "cell_type": "code",
      "metadata": {
        "colab": {
          "base_uri": "https://localhost:8080/",
          "height": 204
        },
        "id": "B2h0hu-P1L7j",
        "outputId": "390a2e6b-af51-43fd-c82f-e6f2f454941f"
      },
      "source": [
        "df_final.head()"
      ],
      "execution_count": null,
      "outputs": [
        {
          "output_type": "execute_result",
          "data": {
            "text/html": [
              "<div>\n",
              "<style scoped>\n",
              "    .dataframe tbody tr th:only-of-type {\n",
              "        vertical-align: middle;\n",
              "    }\n",
              "\n",
              "    .dataframe tbody tr th {\n",
              "        vertical-align: top;\n",
              "    }\n",
              "\n",
              "    .dataframe thead th {\n",
              "        text-align: right;\n",
              "    }\n",
              "</style>\n",
              "<table border=\"1\" class=\"dataframe\">\n",
              "  <thead>\n",
              "    <tr style=\"text-align: right;\">\n",
              "      <th></th>\n",
              "      <th>UserID</th>\n",
              "      <th>Total_cart_value</th>\n",
              "      <th>Total_Products_Purchased</th>\n",
              "      <th>Total_Time_Spent</th>\n",
              "      <th>No_of_times_visited</th>\n",
              "    </tr>\n",
              "  </thead>\n",
              "  <tbody>\n",
              "    <tr>\n",
              "      <th>0</th>\n",
              "      <td>0</td>\n",
              "      <td>1375101.660</td>\n",
              "      <td>20197</td>\n",
              "      <td>11780947.272</td>\n",
              "      <td>1407879</td>\n",
              "    </tr>\n",
              "    <tr>\n",
              "      <th>1</th>\n",
              "      <td>23951842225160889</td>\n",
              "      <td>60.960</td>\n",
              "      <td>2</td>\n",
              "      <td>52.050</td>\n",
              "      <td>8</td>\n",
              "    </tr>\n",
              "    <tr>\n",
              "      <th>2</th>\n",
              "      <td>30833658052409950</td>\n",
              "      <td>216.120</td>\n",
              "      <td>5</td>\n",
              "      <td>381.190</td>\n",
              "      <td>13</td>\n",
              "    </tr>\n",
              "    <tr>\n",
              "      <th>3</th>\n",
              "      <td>33873861847792934</td>\n",
              "      <td>53.240</td>\n",
              "      <td>1</td>\n",
              "      <td>10.063</td>\n",
              "      <td>5</td>\n",
              "    </tr>\n",
              "    <tr>\n",
              "      <th>4</th>\n",
              "      <td>42949238806579040</td>\n",
              "      <td>52.480</td>\n",
              "      <td>2</td>\n",
              "      <td>1424.197</td>\n",
              "      <td>20</td>\n",
              "    </tr>\n",
              "  </tbody>\n",
              "</table>\n",
              "</div>"
            ],
            "text/plain": [
              "              UserID  Total_cart_value  ...  Total_Time_Spent  No_of_times_visited\n",
              "0                  0       1375101.660  ...      11780947.272              1407879\n",
              "1  23951842225160889            60.960  ...            52.050                    8\n",
              "2  30833658052409950           216.120  ...           381.190                   13\n",
              "3  33873861847792934            53.240  ...            10.063                    5\n",
              "4  42949238806579040            52.480  ...          1424.197                   20\n",
              "\n",
              "[5 rows x 5 columns]"
            ]
          },
          "metadata": {
            "tags": []
          },
          "execution_count": 32
        }
      ]
    },
    {
      "cell_type": "code",
      "metadata": {
        "colab": {
          "base_uri": "https://localhost:8080/",
          "height": 204
        },
        "id": "Qv18LXyH1t9U",
        "outputId": "ef9e2f43-3523-474a-eaac-fff3df33e4c7"
      },
      "source": [
        "# Creating bying probability feature\n",
        "\n",
        "df_final['Buy_Probability'] = (df_final['Total_Products_Purchased']/df_final['No_of_times_visited'])\n",
        "df_final.head()"
      ],
      "execution_count": null,
      "outputs": [
        {
          "output_type": "execute_result",
          "data": {
            "text/html": [
              "<div>\n",
              "<style scoped>\n",
              "    .dataframe tbody tr th:only-of-type {\n",
              "        vertical-align: middle;\n",
              "    }\n",
              "\n",
              "    .dataframe tbody tr th {\n",
              "        vertical-align: top;\n",
              "    }\n",
              "\n",
              "    .dataframe thead th {\n",
              "        text-align: right;\n",
              "    }\n",
              "</style>\n",
              "<table border=\"1\" class=\"dataframe\">\n",
              "  <thead>\n",
              "    <tr style=\"text-align: right;\">\n",
              "      <th></th>\n",
              "      <th>UserID</th>\n",
              "      <th>Total_cart_value</th>\n",
              "      <th>Total_Products_Purchased</th>\n",
              "      <th>Total_Time_Spent</th>\n",
              "      <th>No_of_times_visited</th>\n",
              "      <th>Buy_Probability</th>\n",
              "    </tr>\n",
              "  </thead>\n",
              "  <tbody>\n",
              "    <tr>\n",
              "      <th>0</th>\n",
              "      <td>0</td>\n",
              "      <td>1375101.660</td>\n",
              "      <td>20197</td>\n",
              "      <td>11780947.272</td>\n",
              "      <td>1407879</td>\n",
              "      <td>0.014</td>\n",
              "    </tr>\n",
              "    <tr>\n",
              "      <th>1</th>\n",
              "      <td>23951842225160889</td>\n",
              "      <td>60.960</td>\n",
              "      <td>2</td>\n",
              "      <td>52.050</td>\n",
              "      <td>8</td>\n",
              "      <td>0.250</td>\n",
              "    </tr>\n",
              "    <tr>\n",
              "      <th>2</th>\n",
              "      <td>30833658052409950</td>\n",
              "      <td>216.120</td>\n",
              "      <td>5</td>\n",
              "      <td>381.190</td>\n",
              "      <td>13</td>\n",
              "      <td>0.385</td>\n",
              "    </tr>\n",
              "    <tr>\n",
              "      <th>3</th>\n",
              "      <td>33873861847792934</td>\n",
              "      <td>53.240</td>\n",
              "      <td>1</td>\n",
              "      <td>10.063</td>\n",
              "      <td>5</td>\n",
              "      <td>0.200</td>\n",
              "    </tr>\n",
              "    <tr>\n",
              "      <th>4</th>\n",
              "      <td>42949238806579040</td>\n",
              "      <td>52.480</td>\n",
              "      <td>2</td>\n",
              "      <td>1424.197</td>\n",
              "      <td>20</td>\n",
              "      <td>0.100</td>\n",
              "    </tr>\n",
              "  </tbody>\n",
              "</table>\n",
              "</div>"
            ],
            "text/plain": [
              "              UserID  Total_cart_value  ...  No_of_times_visited  Buy_Probability\n",
              "0                  0       1375101.660  ...              1407879            0.014\n",
              "1  23951842225160889            60.960  ...                    8            0.250\n",
              "2  30833658052409950           216.120  ...                   13            0.385\n",
              "3  33873861847792934            53.240  ...                    5            0.200\n",
              "4  42949238806579040            52.480  ...                   20            0.100\n",
              "\n",
              "[5 rows x 6 columns]"
            ]
          },
          "metadata": {
            "tags": []
          },
          "execution_count": 33
        }
      ]
    },
    {
      "cell_type": "code",
      "metadata": {
        "colab": {
          "base_uri": "https://localhost:8080/",
          "height": 204
        },
        "id": "M9zpg0WM41jc",
        "outputId": "eb967adc-ca77-4080-d508-4259a2f59e78"
      },
      "source": [
        "#Creating User score rank for dependent variable\n",
        "\n",
        "df_final['User_Score_Rank'] = (df_final['Buy_Probability']*df_final['Total_cart_value'])\n",
        "\n",
        "df_final.head()"
      ],
      "execution_count": null,
      "outputs": [
        {
          "output_type": "execute_result",
          "data": {
            "text/html": [
              "<div>\n",
              "<style scoped>\n",
              "    .dataframe tbody tr th:only-of-type {\n",
              "        vertical-align: middle;\n",
              "    }\n",
              "\n",
              "    .dataframe tbody tr th {\n",
              "        vertical-align: top;\n",
              "    }\n",
              "\n",
              "    .dataframe thead th {\n",
              "        text-align: right;\n",
              "    }\n",
              "</style>\n",
              "<table border=\"1\" class=\"dataframe\">\n",
              "  <thead>\n",
              "    <tr style=\"text-align: right;\">\n",
              "      <th></th>\n",
              "      <th>UserID</th>\n",
              "      <th>Total_cart_value</th>\n",
              "      <th>Total_Products_Purchased</th>\n",
              "      <th>Total_Time_Spent</th>\n",
              "      <th>No_of_times_visited</th>\n",
              "      <th>Buy_Probability</th>\n",
              "      <th>User_Score_Rank</th>\n",
              "    </tr>\n",
              "  </thead>\n",
              "  <tbody>\n",
              "    <tr>\n",
              "      <th>0</th>\n",
              "      <td>0</td>\n",
              "      <td>1375101.660</td>\n",
              "      <td>20197</td>\n",
              "      <td>11780947.272</td>\n",
              "      <td>1407879</td>\n",
              "      <td>0.014</td>\n",
              "      <td>19726.786</td>\n",
              "    </tr>\n",
              "    <tr>\n",
              "      <th>1</th>\n",
              "      <td>23951842225160889</td>\n",
              "      <td>60.960</td>\n",
              "      <td>2</td>\n",
              "      <td>52.050</td>\n",
              "      <td>8</td>\n",
              "      <td>0.250</td>\n",
              "      <td>15.240</td>\n",
              "    </tr>\n",
              "    <tr>\n",
              "      <th>2</th>\n",
              "      <td>30833658052409950</td>\n",
              "      <td>216.120</td>\n",
              "      <td>5</td>\n",
              "      <td>381.190</td>\n",
              "      <td>13</td>\n",
              "      <td>0.385</td>\n",
              "      <td>83.123</td>\n",
              "    </tr>\n",
              "    <tr>\n",
              "      <th>3</th>\n",
              "      <td>33873861847792934</td>\n",
              "      <td>53.240</td>\n",
              "      <td>1</td>\n",
              "      <td>10.063</td>\n",
              "      <td>5</td>\n",
              "      <td>0.200</td>\n",
              "      <td>10.648</td>\n",
              "    </tr>\n",
              "    <tr>\n",
              "      <th>4</th>\n",
              "      <td>42949238806579040</td>\n",
              "      <td>52.480</td>\n",
              "      <td>2</td>\n",
              "      <td>1424.197</td>\n",
              "      <td>20</td>\n",
              "      <td>0.100</td>\n",
              "      <td>5.248</td>\n",
              "    </tr>\n",
              "  </tbody>\n",
              "</table>\n",
              "</div>"
            ],
            "text/plain": [
              "              UserID  Total_cart_value  ...  Buy_Probability  User_Score_Rank\n",
              "0                  0       1375101.660  ...            0.014        19726.786\n",
              "1  23951842225160889            60.960  ...            0.250           15.240\n",
              "2  30833658052409950           216.120  ...            0.385           83.123\n",
              "3  33873861847792934            53.240  ...            0.200           10.648\n",
              "4  42949238806579040            52.480  ...            0.100            5.248\n",
              "\n",
              "[5 rows x 7 columns]"
            ]
          },
          "metadata": {
            "tags": []
          },
          "execution_count": 34
        }
      ]
    },
    {
      "cell_type": "code",
      "metadata": {
        "colab": {
          "base_uri": "https://localhost:8080/",
          "height": 204
        },
        "id": "z99_Mw9e2YTf",
        "outputId": "71208c58-fb42-44c4-9ee9-5a89b58fa55e"
      },
      "source": [
        "# Dropping first (0th) row since we do not know about each individual user behaviour of this entry.\n",
        "\n",
        "df_final.drop(df_final.index[0], inplace=True)\n",
        "df_final.head()"
      ],
      "execution_count": null,
      "outputs": [
        {
          "output_type": "execute_result",
          "data": {
            "text/html": [
              "<div>\n",
              "<style scoped>\n",
              "    .dataframe tbody tr th:only-of-type {\n",
              "        vertical-align: middle;\n",
              "    }\n",
              "\n",
              "    .dataframe tbody tr th {\n",
              "        vertical-align: top;\n",
              "    }\n",
              "\n",
              "    .dataframe thead th {\n",
              "        text-align: right;\n",
              "    }\n",
              "</style>\n",
              "<table border=\"1\" class=\"dataframe\">\n",
              "  <thead>\n",
              "    <tr style=\"text-align: right;\">\n",
              "      <th></th>\n",
              "      <th>UserID</th>\n",
              "      <th>Total_cart_value</th>\n",
              "      <th>Total_Products_Purchased</th>\n",
              "      <th>Total_Time_Spent</th>\n",
              "      <th>No_of_times_visited</th>\n",
              "      <th>Buy_Probability</th>\n",
              "      <th>User_Score_Rank</th>\n",
              "    </tr>\n",
              "  </thead>\n",
              "  <tbody>\n",
              "    <tr>\n",
              "      <th>1</th>\n",
              "      <td>23951842225160889</td>\n",
              "      <td>60.960</td>\n",
              "      <td>2</td>\n",
              "      <td>52.050</td>\n",
              "      <td>8</td>\n",
              "      <td>0.250</td>\n",
              "      <td>15.240</td>\n",
              "    </tr>\n",
              "    <tr>\n",
              "      <th>2</th>\n",
              "      <td>30833658052409950</td>\n",
              "      <td>216.120</td>\n",
              "      <td>5</td>\n",
              "      <td>381.190</td>\n",
              "      <td>13</td>\n",
              "      <td>0.385</td>\n",
              "      <td>83.123</td>\n",
              "    </tr>\n",
              "    <tr>\n",
              "      <th>3</th>\n",
              "      <td>33873861847792934</td>\n",
              "      <td>53.240</td>\n",
              "      <td>1</td>\n",
              "      <td>10.063</td>\n",
              "      <td>5</td>\n",
              "      <td>0.200</td>\n",
              "      <td>10.648</td>\n",
              "    </tr>\n",
              "    <tr>\n",
              "      <th>4</th>\n",
              "      <td>42949238806579040</td>\n",
              "      <td>52.480</td>\n",
              "      <td>2</td>\n",
              "      <td>1424.197</td>\n",
              "      <td>20</td>\n",
              "      <td>0.100</td>\n",
              "      <td>5.248</td>\n",
              "    </tr>\n",
              "    <tr>\n",
              "      <th>5</th>\n",
              "      <td>53342625381053594</td>\n",
              "      <td>111.980</td>\n",
              "      <td>2</td>\n",
              "      <td>80.579</td>\n",
              "      <td>18</td>\n",
              "      <td>0.111</td>\n",
              "      <td>12.442</td>\n",
              "    </tr>\n",
              "  </tbody>\n",
              "</table>\n",
              "</div>"
            ],
            "text/plain": [
              "              UserID  Total_cart_value  ...  Buy_Probability  User_Score_Rank\n",
              "1  23951842225160889            60.960  ...            0.250           15.240\n",
              "2  30833658052409950           216.120  ...            0.385           83.123\n",
              "3  33873861847792934            53.240  ...            0.200           10.648\n",
              "4  42949238806579040            52.480  ...            0.100            5.248\n",
              "5  53342625381053594           111.980  ...            0.111           12.442\n",
              "\n",
              "[5 rows x 7 columns]"
            ]
          },
          "metadata": {
            "tags": []
          },
          "execution_count": 35
        }
      ]
    },
    {
      "cell_type": "markdown",
      "metadata": {
        "id": "eTA62JoZKLyR"
      },
      "source": [
        "**Below custosers are highest spending customers. Send bonus and target highest spending customers:**"
      ]
    },
    {
      "cell_type": "code",
      "metadata": {
        "colab": {
          "base_uri": "https://localhost:8080/",
          "height": 419
        },
        "id": "ldtt2LQvwXkG",
        "outputId": "05880d4b-07d4-4b33-c52b-0073d4f5ee8b"
      },
      "source": [
        "# Highest spending customers\n",
        "\n",
        "cust_rank = df_final[['UserID','Total_cart_value']].sort_values(by = 'Total_cart_value', ascending = False)[:100]\n",
        "\n",
        "cust_rank"
      ],
      "execution_count": null,
      "outputs": [
        {
          "output_type": "execute_result",
          "data": {
            "text/html": [
              "<div>\n",
              "<style scoped>\n",
              "    .dataframe tbody tr th:only-of-type {\n",
              "        vertical-align: middle;\n",
              "    }\n",
              "\n",
              "    .dataframe tbody tr th {\n",
              "        vertical-align: top;\n",
              "    }\n",
              "\n",
              "    .dataframe thead th {\n",
              "        text-align: right;\n",
              "    }\n",
              "</style>\n",
              "<table border=\"1\" class=\"dataframe\">\n",
              "  <thead>\n",
              "    <tr style=\"text-align: right;\">\n",
              "      <th></th>\n",
              "      <th>UserID</th>\n",
              "      <th>Total_cart_value</th>\n",
              "    </tr>\n",
              "  </thead>\n",
              "  <tbody>\n",
              "    <tr>\n",
              "      <th>5652</th>\n",
              "      <td>8169571183847115777</td>\n",
              "      <td>7765.700</td>\n",
              "    </tr>\n",
              "    <tr>\n",
              "      <th>15557</th>\n",
              "      <td>4098021178710872531</td>\n",
              "      <td>7381.110</td>\n",
              "    </tr>\n",
              "    <tr>\n",
              "      <th>16605</th>\n",
              "      <td>6992616518447940056</td>\n",
              "      <td>6792.260</td>\n",
              "    </tr>\n",
              "    <tr>\n",
              "      <th>1956</th>\n",
              "      <td>7302608914432039755</td>\n",
              "      <td>6068.640</td>\n",
              "    </tr>\n",
              "    <tr>\n",
              "      <th>30870</th>\n",
              "      <td>5723377859179335428</td>\n",
              "      <td>5596.360</td>\n",
              "    </tr>\n",
              "    <tr>\n",
              "      <th>...</th>\n",
              "      <td>...</td>\n",
              "      <td>...</td>\n",
              "    </tr>\n",
              "    <tr>\n",
              "      <th>22973</th>\n",
              "      <td>6021566630445258098</td>\n",
              "      <td>1539.860</td>\n",
              "    </tr>\n",
              "    <tr>\n",
              "      <th>19869</th>\n",
              "      <td>1296185601822506462</td>\n",
              "      <td>1538.640</td>\n",
              "    </tr>\n",
              "    <tr>\n",
              "      <th>22064</th>\n",
              "      <td>3449482812150912222</td>\n",
              "      <td>1528.940</td>\n",
              "    </tr>\n",
              "    <tr>\n",
              "      <th>22964</th>\n",
              "      <td>5898226586715380735</td>\n",
              "      <td>1522.180</td>\n",
              "    </tr>\n",
              "    <tr>\n",
              "      <th>6914</th>\n",
              "      <td>3395540697207580806</td>\n",
              "      <td>1519.960</td>\n",
              "    </tr>\n",
              "  </tbody>\n",
              "</table>\n",
              "<p>100 rows × 2 columns</p>\n",
              "</div>"
            ],
            "text/plain": [
              "                    UserID  Total_cart_value\n",
              "5652   8169571183847115777          7765.700\n",
              "15557  4098021178710872531          7381.110\n",
              "16605  6992616518447940056          6792.260\n",
              "1956   7302608914432039755          6068.640\n",
              "30870  5723377859179335428          5596.360\n",
              "...                    ...               ...\n",
              "22973  6021566630445258098          1539.860\n",
              "19869  1296185601822506462          1538.640\n",
              "22064  3449482812150912222          1528.940\n",
              "22964  5898226586715380735          1522.180\n",
              "6914   3395540697207580806          1519.960\n",
              "\n",
              "[100 rows x 2 columns]"
            ]
          },
          "metadata": {
            "tags": []
          },
          "execution_count": 36
        }
      ]
    },
    {
      "cell_type": "code",
      "metadata": {
        "colab": {
          "base_uri": "https://localhost:8080/",
          "height": 535
        },
        "id": "iV5E4JJ3-MhQ",
        "outputId": "3902c3db-c64f-4303-99c4-999a5679fe46"
      },
      "source": [
        "# Plotting graph of highest spending customers in descending order\n",
        "\n",
        "plt.figure(figsize= (20,8))\n",
        "cust_rank['Total_cart_value'].plot(kind='bar')\n",
        "plt.xticks(rotation=90)\n",
        "plt.xlabel('Customer ID')\n",
        "plt.ylabel('Spending in USD')\n",
        "plt.title('Customers spending in USD');"
      ],
      "execution_count": null,
      "outputs": [
        {
          "output_type": "display_data",
          "data": {
            "image/png": "[encoded data removed]",
            "text/plain": [
              "<Figure size 1440x576 with 1 Axes>"
            ]
          },
          "metadata": {
            "tags": [],
            "needs_background": "light"
          }
        }
      ]
    },
    {
      "cell_type": "markdown",
      "metadata": {
        "id": "LB6yb3dzIn_x"
      },
      "source": [
        "## **Feature Engineering**"
      ]
    },
    {
      "cell_type": "markdown",
      "metadata": {
        "id": "IqEW0A1gLxxU"
      },
      "source": [
        "#### Here in this section I'm going to perform below tasks\n",
        "\n",
        "- Droping unwanted features - Apart from other features, I'm dropping User ID since this feature has no role in ML model\n",
        "- Handling missing values : No missing values found as per EDA\n",
        "- Removing outliers from dependant variable\n",
        "- Performing feature scaling"
      ]
    },
    {
      "cell_type": "code",
      "metadata": {
        "id": "36Z67nekfrcD"
      },
      "source": [
        "df_final1 = df_final.drop('UserID', axis=1)"
      ],
      "execution_count": null,
      "outputs": []
    },
    {
      "cell_type": "code",
      "metadata": {
        "colab": {
          "base_uri": "https://localhost:8080/",
          "height": 204
        },
        "id": "963HX2aqf1KC",
        "outputId": "9f14531f-a935-4673-f79e-dfb738f5343e"
      },
      "source": [
        "df_final1.head()"
      ],
      "execution_count": null,
      "outputs": [
        {
          "output_type": "execute_result",
          "data": {
            "text/html": [
              "<div>\n",
              "<style scoped>\n",
              "    .dataframe tbody tr th:only-of-type {\n",
              "        vertical-align: middle;\n",
              "    }\n",
              "\n",
              "    .dataframe tbody tr th {\n",
              "        vertical-align: top;\n",
              "    }\n",
              "\n",
              "    .dataframe thead th {\n",
              "        text-align: right;\n",
              "    }\n",
              "</style>\n",
              "<table border=\"1\" class=\"dataframe\">\n",
              "  <thead>\n",
              "    <tr style=\"text-align: right;\">\n",
              "      <th></th>\n",
              "      <th>Total_cart_value</th>\n",
              "      <th>Total_Products_Purchased</th>\n",
              "      <th>Total_Time_Spent</th>\n",
              "      <th>No_of_times_visited</th>\n",
              "      <th>Buy_Probability</th>\n",
              "      <th>User_Score_Rank</th>\n",
              "    </tr>\n",
              "  </thead>\n",
              "  <tbody>\n",
              "    <tr>\n",
              "      <th>1</th>\n",
              "      <td>60.960</td>\n",
              "      <td>2</td>\n",
              "      <td>52.050</td>\n",
              "      <td>8</td>\n",
              "      <td>0.250</td>\n",
              "      <td>15.240</td>\n",
              "    </tr>\n",
              "    <tr>\n",
              "      <th>2</th>\n",
              "      <td>216.120</td>\n",
              "      <td>5</td>\n",
              "      <td>381.190</td>\n",
              "      <td>13</td>\n",
              "      <td>0.385</td>\n",
              "      <td>83.123</td>\n",
              "    </tr>\n",
              "    <tr>\n",
              "      <th>3</th>\n",
              "      <td>53.240</td>\n",
              "      <td>1</td>\n",
              "      <td>10.063</td>\n",
              "      <td>5</td>\n",
              "      <td>0.200</td>\n",
              "      <td>10.648</td>\n",
              "    </tr>\n",
              "    <tr>\n",
              "      <th>4</th>\n",
              "      <td>52.480</td>\n",
              "      <td>2</td>\n",
              "      <td>1424.197</td>\n",
              "      <td>20</td>\n",
              "      <td>0.100</td>\n",
              "      <td>5.248</td>\n",
              "    </tr>\n",
              "    <tr>\n",
              "      <th>5</th>\n",
              "      <td>111.980</td>\n",
              "      <td>2</td>\n",
              "      <td>80.579</td>\n",
              "      <td>18</td>\n",
              "      <td>0.111</td>\n",
              "      <td>12.442</td>\n",
              "    </tr>\n",
              "  </tbody>\n",
              "</table>\n",
              "</div>"
            ],
            "text/plain": [
              "   Total_cart_value  Total_Products_Purchased  ...  Buy_Probability  User_Score_Rank\n",
              "1            60.960                         2  ...            0.250           15.240\n",
              "2           216.120                         5  ...            0.385           83.123\n",
              "3            53.240                         1  ...            0.200           10.648\n",
              "4            52.480                         2  ...            0.100            5.248\n",
              "5           111.980                         2  ...            0.111           12.442\n",
              "\n",
              "[5 rows x 6 columns]"
            ]
          },
          "metadata": {
            "tags": []
          },
          "execution_count": 39
        }
      ]
    },
    {
      "cell_type": "code",
      "metadata": {
        "colab": {
          "base_uri": "https://localhost:8080/",
          "height": 389
        },
        "id": "XThthlUmsTHN",
        "outputId": "efad7930-1135-4737-be08-89bb383c51b5"
      },
      "source": [
        "# Checking outliers in dependant variable, i.e. User_Score_Rank\n",
        "\n",
        "plt.figure(figsize=(10,6), facecolor='white')\n",
        "sns.boxplot(x=df_final1['User_Score_Rank'])\n",
        "plt.xlabel('User_Score_Rank')\n",
        "plt.show()"
      ],
      "execution_count": null,
      "outputs": [
        {
          "output_type": "display_data",
          "data": {
            "image/png": "[encoded data removed]",
            "text/plain": [
              "<Figure size 720x432 with 1 Axes>"
            ]
          },
          "metadata": {
            "tags": []
          }
        }
      ]
    },
    {
      "cell_type": "markdown",
      "metadata": {
        "id": "PwuiZDDksTBj"
      },
      "source": [
        "**Above box plot shows that there are outliers in User_Score_Rank. I shall use IQR method to remove outliers.**"
      ]
    },
    {
      "cell_type": "code",
      "metadata": {
        "colab": {
          "base_uri": "https://localhost:8080/"
        },
        "id": "Y7QyfsLEjaNw",
        "outputId": "807d64a2-d15e-4f83-818c-25dbafe441e2"
      },
      "source": [
        "first, third = df_final1.User_Score_Rank.quantile([0.25, 0.75])\n",
        "first, third"
      ],
      "execution_count": null,
      "outputs": [
        {
          "output_type": "execute_result",
          "data": {
            "text/plain": [
              "(2.992727272727273, 15.334285714285715)"
            ]
          },
          "metadata": {
            "tags": []
          },
          "execution_count": 43
        }
      ]
    },
    {
      "cell_type": "code",
      "metadata": {
        "id": "ow-GOoY1pud0",
        "colab": {
          "base_uri": "https://localhost:8080/"
        },
        "outputId": "81856fea-a154-4b11-ffd7-948347235478"
      },
      "source": [
        "iqr = third - first\n",
        "iqr"
      ],
      "execution_count": null,
      "outputs": [
        {
          "output_type": "execute_result",
          "data": {
            "text/plain": [
              "12.34155844155844"
            ]
          },
          "metadata": {
            "tags": []
          },
          "execution_count": 44
        }
      ]
    },
    {
      "cell_type": "code",
      "metadata": {
        "id": "nJYTiqhssgIn",
        "colab": {
          "base_uri": "https://localhost:8080/"
        },
        "outputId": "e87167a7-2aeb-42c9-c19d-1f126047bf5b"
      },
      "source": [
        "lower = first - 1.5*iqr\n",
        "lower"
      ],
      "execution_count": null,
      "outputs": [
        {
          "output_type": "execute_result",
          "data": {
            "text/plain": [
              "-15.519610389610389"
            ]
          },
          "metadata": {
            "tags": []
          },
          "execution_count": 45
        }
      ]
    },
    {
      "cell_type": "code",
      "metadata": {
        "colab": {
          "base_uri": "https://localhost:8080/"
        },
        "id": "M5WjmdyDmOq9",
        "outputId": "3028f5d5-00f5-425d-bfeb-4596cdb04330"
      },
      "source": [
        "upper = third + 1.5*iqr\n",
        "upper"
      ],
      "execution_count": null,
      "outputs": [
        {
          "output_type": "execute_result",
          "data": {
            "text/plain": [
              "33.84662337662338"
            ]
          },
          "metadata": {
            "tags": []
          },
          "execution_count": 46
        }
      ]
    },
    {
      "cell_type": "code",
      "metadata": {
        "id": "aLfey2PhsqPu",
        "colab": {
          "base_uri": "https://localhost:8080/",
          "height": 204
        },
        "outputId": "984506c7-2f42-4950-c32d-05f972ce3341"
      },
      "source": [
        "df_final2 = df_final1[(df_final1['User_Score_Rank'] > lower) & (df_final1['User_Score_Rank'] < upper)]\n",
        "df_final2.head()"
      ],
      "execution_count": null,
      "outputs": [
        {
          "output_type": "execute_result",
          "data": {
            "text/html": [
              "<div>\n",
              "<style scoped>\n",
              "    .dataframe tbody tr th:only-of-type {\n",
              "        vertical-align: middle;\n",
              "    }\n",
              "\n",
              "    .dataframe tbody tr th {\n",
              "        vertical-align: top;\n",
              "    }\n",
              "\n",
              "    .dataframe thead th {\n",
              "        text-align: right;\n",
              "    }\n",
              "</style>\n",
              "<table border=\"1\" class=\"dataframe\">\n",
              "  <thead>\n",
              "    <tr style=\"text-align: right;\">\n",
              "      <th></th>\n",
              "      <th>Total_cart_value</th>\n",
              "      <th>Total_Products_Purchased</th>\n",
              "      <th>Total_Time_Spent</th>\n",
              "      <th>No_of_times_visited</th>\n",
              "      <th>Buy_Probability</th>\n",
              "      <th>User_Score_Rank</th>\n",
              "    </tr>\n",
              "  </thead>\n",
              "  <tbody>\n",
              "    <tr>\n",
              "      <th>1</th>\n",
              "      <td>60.960</td>\n",
              "      <td>2</td>\n",
              "      <td>52.050</td>\n",
              "      <td>8</td>\n",
              "      <td>0.250</td>\n",
              "      <td>15.240</td>\n",
              "    </tr>\n",
              "    <tr>\n",
              "      <th>3</th>\n",
              "      <td>53.240</td>\n",
              "      <td>1</td>\n",
              "      <td>10.063</td>\n",
              "      <td>5</td>\n",
              "      <td>0.200</td>\n",
              "      <td>10.648</td>\n",
              "    </tr>\n",
              "    <tr>\n",
              "      <th>4</th>\n",
              "      <td>52.480</td>\n",
              "      <td>2</td>\n",
              "      <td>1424.197</td>\n",
              "      <td>20</td>\n",
              "      <td>0.100</td>\n",
              "      <td>5.248</td>\n",
              "    </tr>\n",
              "    <tr>\n",
              "      <th>5</th>\n",
              "      <td>111.980</td>\n",
              "      <td>2</td>\n",
              "      <td>80.579</td>\n",
              "      <td>18</td>\n",
              "      <td>0.111</td>\n",
              "      <td>12.442</td>\n",
              "    </tr>\n",
              "    <tr>\n",
              "      <th>6</th>\n",
              "      <td>91.440</td>\n",
              "      <td>3</td>\n",
              "      <td>35.379</td>\n",
              "      <td>15</td>\n",
              "      <td>0.200</td>\n",
              "      <td>18.288</td>\n",
              "    </tr>\n",
              "  </tbody>\n",
              "</table>\n",
              "</div>"
            ],
            "text/plain": [
              "   Total_cart_value  Total_Products_Purchased  ...  Buy_Probability  User_Score_Rank\n",
              "1            60.960                         2  ...            0.250           15.240\n",
              "3            53.240                         1  ...            0.200           10.648\n",
              "4            52.480                         2  ...            0.100            5.248\n",
              "5           111.980                         2  ...            0.111           12.442\n",
              "6            91.440                         3  ...            0.200           18.288\n",
              "\n",
              "[5 rows x 6 columns]"
            ]
          },
          "metadata": {
            "tags": []
          },
          "execution_count": 47
        }
      ]
    },
    {
      "cell_type": "code",
      "metadata": {
        "colab": {
          "base_uri": "https://localhost:8080/",
          "height": 389
        },
        "id": "SHPaqXQz2rQ0",
        "outputId": "a3be99f7-22f8-4cc8-857b-c1f173d0e3d0"
      },
      "source": [
        "# Checking outliers in dependant variable, i.e. User_Score_Rank\n",
        "# Now I have removed a considerable amount of outliers\n",
        "\n",
        "plt.figure(figsize=(10,6), facecolor='white')\n",
        "sns.boxplot(x=df_final2['User_Score_Rank'])\n",
        "plt.xlabel('User_Score_Rank')\n",
        "plt.show()"
      ],
      "execution_count": null,
      "outputs": [
        {
          "output_type": "display_data",
          "data": {
            "image/png": "[encoded data removed]",
            "text/plain": [
              "<Figure size 720x432 with 1 Axes>"
            ]
          },
          "metadata": {
            "tags": []
          }
        }
      ]
    },
    {
      "cell_type": "code",
      "metadata": {
        "colab": {
          "base_uri": "https://localhost:8080/"
        },
        "id": "H7kHbgAe6noO",
        "outputId": "d98ef425-80ae-40cb-8664-125a994beda5"
      },
      "source": [
        "# Here, I'm splitting the train and test features\n",
        "# and applying feature scaling for all numerical features\n",
        "\n",
        "from sklearn.model_selection import train_test_split\n",
        "from sklearn.preprocessing import StandardScaler\n",
        "\n",
        "X = df_final2.drop(['User_Score_Rank'], axis=1)\n",
        "y = df_final2['User_Score_Rank']\n",
        "\n",
        "sc = StandardScaler()\n",
        "X = sc.fit_transform(X)  ##Standardizing all features of X\n",
        "\n",
        "X_train, X_test, y_train, y_test = train_test_split(X, y, test_size=0.20, random_state = 42)\n",
        "\n",
        "print(X_train.shape, X_test.shape)\n",
        "print(y_train.shape, y_test.shape)"
      ],
      "execution_count": null,
      "outputs": [
        {
          "output_type": "stream",
          "text": [
            "(29888, 5) (7472, 5)\n",
            "(29888,) (7472,)\n"
          ],
          "name": "stdout"
        }
      ]
    },
    {
      "cell_type": "code",
      "metadata": {
        "colab": {
          "base_uri": "https://localhost:8080/"
        },
        "id": "H9np0y5C77yz",
        "outputId": "ebd2f206-a482-4d35-c60b-641153090531"
      },
      "source": [
        "## DO NOT RUN THIS CODE IN JUPYTER - DATASET IS TOO BIG!!\n",
        "# Run this code-block in Colab\n",
        "\n",
        "from xgboost import XGBRegressor\n",
        "from sklearn.metrics import mean_squared_error, r2_score\n",
        "from math import sqrt\n",
        "\n",
        "xgb_regressor = XGBRegressor(Learning_rate=0.02, n_estimators=1000, seed=42)\n",
        "\n",
        "xgb_regressor.fit(X_train, y_train)\n",
        "pred=xgb_regressor.predict(X_test)\n",
        "\n",
        "print('RMSE: ', sqrt(mean_squared_error(y_test, pred)))\n",
        "print('MSE: ', mean_squared_error(y_test, pred))\n",
        "print('R2: ', r2_score(y_test, pred))"
      ],
      "execution_count": null,
      "outputs": [
        {
          "output_type": "stream",
          "text": [
            "[06:38:48] WARNING: /workspace/src/objective/regression_obj.cu:152: reg:linear is now deprecated in favor of reg:squarederror.\n",
            "RMSE:  0.2043471969057266\n",
            "MSE:  0.04175777688322781\n",
            "R2:  0.9992822538519497\n"
          ],
          "name": "stdout"
        }
      ]
    },
    {
      "cell_type": "code",
      "metadata": {
        "colab": {
          "base_uri": "https://localhost:8080/"
        },
        "id": "aUNk2I88-d76",
        "outputId": "cd0f6cd0-9049-4cf9-b486-b997aaf7509a"
      },
      "source": [
        "from sklearn.ensemble import RandomForestRegressor\n",
        "from sklearn.metrics import mean_squared_error, r2_score\n",
        "from math import sqrt\n",
        "\n",
        "regressor_rf = RandomForestRegressor()\n",
        "\n",
        "regressor_rf.fit(X_train, y_train)\n",
        "pred=regressor_rf.predict(X_test)\n",
        "\n",
        "print('RMSE: ', sqrt(mean_squared_error(y_test, pred)))\n",
        "print('MSE: ', mean_squared_error(y_test, pred))\n",
        "print('R2: ', r2_score(y_test, pred))"
      ],
      "execution_count": null,
      "outputs": [
        {
          "output_type": "stream",
          "text": [
            "RMSE:  0.12494181562167278\n",
            "MSE:  0.015610457290840075\n",
            "R2:  0.9997316824211898\n"
          ],
          "name": "stdout"
        }
      ]
    },
    {
      "cell_type": "code",
      "metadata": {
        "colab": {
          "base_uri": "https://localhost:8080/"
        },
        "id": "xq4nQeDt_Oxb",
        "outputId": "ed7cf190-37c2-4317-ff91-ec2325b0a41c"
      },
      "source": [
        "from sklearn.model_selection import RandomizedSearchCV\n",
        "\n",
        "n_estimators = [200, 300, 400, 500, 600]\n",
        "max_features = ['auto', 'sqrt']\n",
        "max_depth = [20, 40, 50, 60, 80]\n",
        "min_samples_split = [2, 5, 10, 15, 20]\n",
        "min_samples_leaf = [1, 2, 3, 4, 5]\n",
        "bootstrap = [True, False]\n",
        "\n",
        "random_grid = {'n_estimators': n_estimators,\n",
        "               'max_features': max_features,\n",
        "               'max_depth': max_depth,\n",
        "               'min_samples_split': min_samples_split,\n",
        "               'min_samples_leaf': min_samples_leaf,\n",
        "               'bootstrap': bootstrap}\n",
        "\n",
        "random_cv2 = RandomizedSearchCV(estimator=RandomForestRegressor(), \n",
        "                                param_distributions = random_grid, n_iter = 50,\n",
        "                                scoring = 'neg_mean_absolute_error', cv = 5,\n",
        "                                verbose = 5, random_state=42, n_jobs=-1, return_train_score = True)\n",
        "\n",
        "random_cv2.fit(X_train, y_train)"
      ],
      "execution_count": null,
      "outputs": [
        {
          "output_type": "stream",
          "text": [
            "Fitting 5 folds for each of 50 candidates, totalling 250 fits\n"
          ],
          "name": "stdout"
        },
        {
          "output_type": "stream",
          "text": [
            "[Parallel(n_jobs=-1)]: Using backend LokyBackend with 2 concurrent workers.\n",
            "[Parallel(n_jobs=-1)]: Done  14 tasks      | elapsed:  4.8min\n",
            "[Parallel(n_jobs=-1)]: Done  68 tasks      | elapsed: 17.9min\n",
            "[Parallel(n_jobs=-1)]: Done 158 tasks      | elapsed: 41.5min\n",
            "[Parallel(n_jobs=-1)]: Done 250 out of 250 | elapsed: 71.9min finished\n"
          ],
          "name": "stderr"
        },
        {
          "output_type": "execute_result",
          "data": {
            "text/plain": [
              "RandomizedSearchCV(cv=5, error_score=nan,\n",
              "                   estimator=RandomForestRegressor(bootstrap=True,\n",
              "                                                   ccp_alpha=0.0,\n",
              "                                                   criterion='mse',\n",
              "                                                   max_depth=None,\n",
              "                                                   max_features='auto',\n",
              "                                                   max_leaf_nodes=None,\n",
              "                                                   max_samples=None,\n",
              "                                                   min_impurity_decrease=0.0,\n",
              "                                                   min_impurity_split=None,\n",
              "                                                   min_samples_leaf=1,\n",
              "                                                   min_samples_split=2,\n",
              "                                                   min_weight_fraction_leaf=0.0,\n",
              "                                                   n_estimators=100,\n",
              "                                                   n_jobs=None, oob_score=Fals...\n",
              "                   iid='deprecated', n_iter=50, n_jobs=-1,\n",
              "                   param_distributions={'bootstrap': [True, False],\n",
              "                                        'max_depth': [20, 40, 50, 60, 80],\n",
              "                                        'max_features': ['auto', 'sqrt'],\n",
              "                                        'min_samples_leaf': [1, 2, 3, 4, 5],\n",
              "                                        'min_samples_split': [2, 5, 10, 15, 20],\n",
              "                                        'n_estimators': [200, 300, 400, 500,\n",
              "                                                         600]},\n",
              "                   pre_dispatch='2*n_jobs', random_state=42, refit=True,\n",
              "                   return_train_score=True, scoring='neg_mean_absolute_error',\n",
              "                   verbose=5)"
            ]
          },
          "metadata": {
            "tags": []
          },
          "execution_count": 53
        }
      ]
    },
    {
      "cell_type": "code",
      "metadata": {
        "id": "Q9g26C8eCdAB",
        "colab": {
          "base_uri": "https://localhost:8080/"
        },
        "outputId": "6f61a794-324e-45e9-f6f7-dfdcb5e9fe16"
      },
      "source": [
        "random_cv2.best_params_"
      ],
      "execution_count": null,
      "outputs": [
        {
          "output_type": "execute_result",
          "data": {
            "text/plain": [
              "{'bootstrap': True,\n",
              " 'max_depth': 50,\n",
              " 'max_features': 'auto',\n",
              " 'min_samples_leaf': 1,\n",
              " 'min_samples_split': 5,\n",
              " 'n_estimators': 600}"
            ]
          },
          "metadata": {
            "tags": []
          },
          "execution_count": 54
        }
      ]
    },
    {
      "cell_type": "code",
      "metadata": {
        "colab": {
          "base_uri": "https://localhost:8080/"
        },
        "id": "g5EPB7EUCjvW",
        "outputId": "29ffa296-fead-4ebc-f2b5-ac6f920d37f0"
      },
      "source": [
        "ffclassifier = RandomForestRegressor(**random_cv2.best_params_)\n",
        "classifier.fit(X_train, y_train)\n",
        "\n",
        "pred = classifier.predict(X_test)\n",
        "\n",
        "print('RMSE: ', sqrt(mean_squared_error(y_test, pred)))\n",
        "print('MSE: ', mean_squared_error(y_test, pred))\n",
        "print('R2: ', r2_score(y_test, pred))"
      ],
      "execution_count": null,
      "outputs": [
        {
          "output_type": "stream",
          "text": [
            "RMSE:  0.13284317368806747\n",
            "MSE:  0.01764730879551806\n",
            "R2:  0.9996966723600527\n"
          ],
          "name": "stdout"
        }
      ]
    },
    {
      "cell_type": "code",
      "metadata": {
        "colab": {
          "base_uri": "https://localhost:8080/",
          "height": 281
        },
        "id": "SHkftoP1DP5I",
        "outputId": "c90671fe-158c-4f44-9b07-c4e9cb51e830"
      },
      "source": [
        "imp = pd.Series(data=classifier.feature_importances_, index=['Total_cart_value', 'Total_Products_Purchased',\t'Total_Time_Spent',\n",
        "                                                             'No_of_times_visited',\t'Buy_Probability']).sort_values(ascending=False)\n",
        "\n",
        "plt.title('Feature Importance')\n",
        "ax = sns.barplot(y=imp.index, x=imp.values, orient='h')"
      ],
      "execution_count": null,
      "outputs": [
        {
          "output_type": "display_data",
          "data": {
            "image/png": "[encoded data removed]",
            "text/plain": [
              "<Figure size 432x288 with 1 Axes>"
            ]
          },
          "metadata": {
            "tags": [],
            "needs_background": "light"
          }
        }
      ]
    },
    {
      "cell_type": "markdown",
      "metadata": {
        "id": "hEKCgL_YE6my"
      },
      "source": [
        "**NOTE:** Seems the most important features are `Total_Cart_Value` and `Buy_probability`\n",
        "\n",
        "Hence users with higher `Total_Cart_Value` and `Buy_probability` should be targeted"
      ]
    }
  ]
}